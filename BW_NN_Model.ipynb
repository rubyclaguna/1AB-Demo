{
  "nbformat": 4,
  "nbformat_minor": 0,
  "metadata": {
    "colab": {
      "name": "BW_NN_Model",
      "provenance": [],
      "collapsed_sections": [],
      "authorship_tag": "ABX9TyO7DV3MBjA5zfWbQcybydnc",
      "include_colab_link": true
    },
    "kernelspec": {
      "name": "python3",
      "display_name": "Python 3"
    },
    "accelerator": "GPU"
  },
  "cells": [
    {
      "cell_type": "markdown",
      "metadata": {
        "id": "view-in-github",
        "colab_type": "text"
      },
      "source": [
        "<a href=\"https://colab.research.google.com/github/rubyclaguna/AB-Demo/blob/master/BW_NN_Model.ipynb\" target=\"_parent\"><img src=\"https://colab.research.google.com/assets/colab-badge.svg\" alt=\"Open In Colab\"/></a>"
      ]
    },
    {
      "cell_type": "code",
      "metadata": {
        "id": "2LuKXIYcGx5n",
        "colab_type": "code",
        "colab": {
          "base_uri": "https://localhost:8080/",
          "height": 306
        },
        "outputId": "aaf54637-6017-4740-a73f-74917031a71f"
      },
      "source": [
        "# Load Leafly dataset\n",
        "\n",
        "import pandas as pd \n",
        "import numpy as np \n",
        "import spacy \n",
        "\n",
        "\n",
        "df1 = pd.read_csv('./cannabis.csv')\n",
        "#df2 = pd.read_csv('./medcabinet_data.csv')\n",
        "\n",
        "print(df1.shape)\n",
        "df1.head()"
      ],
      "execution_count": 1,
      "outputs": [
        {
          "output_type": "stream",
          "text": [
            "(2351, 6)\n"
          ],
          "name": "stdout"
        },
        {
          "output_type": "execute_result",
          "data": {
            "text/html": [
              "<div>\n",
              "<style scoped>\n",
              "    .dataframe tbody tr th:only-of-type {\n",
              "        vertical-align: middle;\n",
              "    }\n",
              "\n",
              "    .dataframe tbody tr th {\n",
              "        vertical-align: top;\n",
              "    }\n",
              "\n",
              "    .dataframe thead th {\n",
              "        text-align: right;\n",
              "    }\n",
              "</style>\n",
              "<table border=\"1\" class=\"dataframe\">\n",
              "  <thead>\n",
              "    <tr style=\"text-align: right;\">\n",
              "      <th></th>\n",
              "      <th>Strain</th>\n",
              "      <th>Type</th>\n",
              "      <th>Rating</th>\n",
              "      <th>Effects</th>\n",
              "      <th>Flavor</th>\n",
              "      <th>Description</th>\n",
              "    </tr>\n",
              "  </thead>\n",
              "  <tbody>\n",
              "    <tr>\n",
              "      <th>0</th>\n",
              "      <td>100-Og</td>\n",
              "      <td>hybrid</td>\n",
              "      <td>4.0</td>\n",
              "      <td>Creative,Energetic,Tingly,Euphoric,Relaxed</td>\n",
              "      <td>Earthy,Sweet,Citrus</td>\n",
              "      <td>$100 OG is a 50/50 hybrid strain that packs a ...</td>\n",
              "    </tr>\n",
              "    <tr>\n",
              "      <th>1</th>\n",
              "      <td>98-White-Widow</td>\n",
              "      <td>hybrid</td>\n",
              "      <td>4.7</td>\n",
              "      <td>Relaxed,Aroused,Creative,Happy,Energetic</td>\n",
              "      <td>Flowery,Violet,Diesel</td>\n",
              "      <td>The ‘98 Aloha White Widow is an especially pot...</td>\n",
              "    </tr>\n",
              "    <tr>\n",
              "      <th>2</th>\n",
              "      <td>1024</td>\n",
              "      <td>sativa</td>\n",
              "      <td>4.4</td>\n",
              "      <td>Uplifted,Happy,Relaxed,Energetic,Creative</td>\n",
              "      <td>Spicy/Herbal,Sage,Woody</td>\n",
              "      <td>1024 is a sativa-dominant hybrid bred in Spain...</td>\n",
              "    </tr>\n",
              "    <tr>\n",
              "      <th>3</th>\n",
              "      <td>13-Dawgs</td>\n",
              "      <td>hybrid</td>\n",
              "      <td>4.2</td>\n",
              "      <td>Tingly,Creative,Hungry,Relaxed,Uplifted</td>\n",
              "      <td>Apricot,Citrus,Grapefruit</td>\n",
              "      <td>13 Dawgs is a hybrid of G13 and Chemdawg genet...</td>\n",
              "    </tr>\n",
              "    <tr>\n",
              "      <th>4</th>\n",
              "      <td>24K-Gold</td>\n",
              "      <td>hybrid</td>\n",
              "      <td>4.6</td>\n",
              "      <td>Happy,Relaxed,Euphoric,Uplifted,Talkative</td>\n",
              "      <td>Citrus,Earthy,Orange</td>\n",
              "      <td>Also known as Kosher Tangie, 24k Gold is a 60%...</td>\n",
              "    </tr>\n",
              "  </tbody>\n",
              "</table>\n",
              "</div>"
            ],
            "text/plain": [
              "           Strain  ...                                        Description\n",
              "0          100-Og  ...  $100 OG is a 50/50 hybrid strain that packs a ...\n",
              "1  98-White-Widow  ...  The ‘98 Aloha White Widow is an especially pot...\n",
              "2            1024  ...  1024 is a sativa-dominant hybrid bred in Spain...\n",
              "3        13-Dawgs  ...  13 Dawgs is a hybrid of G13 and Chemdawg genet...\n",
              "4        24K-Gold  ...  Also known as Kosher Tangie, 24k Gold is a 60%...\n",
              "\n",
              "[5 rows x 6 columns]"
            ]
          },
          "metadata": {
            "tags": []
          },
          "execution_count": 1
        }
      ]
    },
    {
      "cell_type": "code",
      "metadata": {
        "id": "sEMq0qS2SPTB",
        "colab_type": "code",
        "colab": {
          "base_uri": "https://localhost:8080/",
          "height": 564
        },
        "outputId": "9307ede0-6ce8-4e42-c736-dd6a0446289b"
      },
      "source": [
        "#df2.head()"
      ],
      "execution_count": 123,
      "outputs": [
        {
          "output_type": "execute_result",
          "data": {
            "text/html": [
              "<div>\n",
              "<style scoped>\n",
              "    .dataframe tbody tr th:only-of-type {\n",
              "        vertical-align: middle;\n",
              "    }\n",
              "\n",
              "    .dataframe tbody tr th {\n",
              "        vertical-align: top;\n",
              "    }\n",
              "\n",
              "    .dataframe thead th {\n",
              "        text-align: right;\n",
              "    }\n",
              "</style>\n",
              "<table border=\"1\" class=\"dataframe\">\n",
              "  <thead>\n",
              "    <tr style=\"text-align: right;\">\n",
              "      <th></th>\n",
              "      <th>Unnamed: 0</th>\n",
              "      <th>Strain</th>\n",
              "      <th>Type</th>\n",
              "      <th>Rating</th>\n",
              "      <th>Description</th>\n",
              "      <th>Earthy</th>\n",
              "      <th>Sweet</th>\n",
              "      <th>Citrus</th>\n",
              "      <th>Flowery</th>\n",
              "      <th>Violet</th>\n",
              "      <th>Diesel</th>\n",
              "      <th>Spicy/Herbal</th>\n",
              "      <th>Sage</th>\n",
              "      <th>Woody</th>\n",
              "      <th>Apricot</th>\n",
              "      <th>Grapefruit</th>\n",
              "      <th>Orange</th>\n",
              "      <th>None</th>\n",
              "      <th>Pungent</th>\n",
              "      <th>Grape</th>\n",
              "      <th>Pine</th>\n",
              "      <th>Skunk</th>\n",
              "      <th>Berry</th>\n",
              "      <th>Pepper</th>\n",
              "      <th>Menthol</th>\n",
              "      <th>Blue</th>\n",
              "      <th>Cheese</th>\n",
              "      <th>Chemical</th>\n",
              "      <th>Mango</th>\n",
              "      <th>Lemon</th>\n",
              "      <th>Peach</th>\n",
              "      <th>Vanilla</th>\n",
              "      <th>Nutty</th>\n",
              "      <th>Chestnut</th>\n",
              "      <th>Tea</th>\n",
              "      <th>Tobacco</th>\n",
              "      <th>Tropical</th>\n",
              "      <th>Strawberry</th>\n",
              "      <th>Blueberry</th>\n",
              "      <th>Mint</th>\n",
              "      <th>Apple</th>\n",
              "      <th>Honey</th>\n",
              "      <th>Lavender</th>\n",
              "      <th>Lime</th>\n",
              "      <th>nan</th>\n",
              "      <th>Coffee</th>\n",
              "      <th>Ammonia</th>\n",
              "      <th>Minty</th>\n",
              "      <th>Tree</th>\n",
              "      <th>Fruit</th>\n",
              "      <th>Butter</th>\n",
              "      <th>Pineapple</th>\n",
              "      <th>Tar</th>\n",
              "      <th>Rose</th>\n",
              "      <th>Plum</th>\n",
              "      <th>Pear</th>\n",
              "      <th>Creative</th>\n",
              "      <th>Energetic</th>\n",
              "      <th>Tingly</th>\n",
              "      <th>Euphoric</th>\n",
              "      <th>Relaxed</th>\n",
              "      <th>Aroused</th>\n",
              "      <th>Happy</th>\n",
              "      <th>Uplifted</th>\n",
              "      <th>Hungry</th>\n",
              "      <th>Talkative</th>\n",
              "      <th>Giggly</th>\n",
              "      <th>Focused</th>\n",
              "      <th>Sleepy</th>\n",
              "      <th>Dry</th>\n",
              "      <th>Mouth</th>\n",
              "    </tr>\n",
              "  </thead>\n",
              "  <tbody>\n",
              "    <tr>\n",
              "      <th>0</th>\n",
              "      <td>0</td>\n",
              "      <td>100-Og</td>\n",
              "      <td>hybrid</td>\n",
              "      <td>4.0</td>\n",
              "      <td>$100 OG is a 50/50 hybrid strain that packs a ...</td>\n",
              "      <td>0</td>\n",
              "      <td>0</td>\n",
              "      <td>0</td>\n",
              "      <td>0</td>\n",
              "      <td>0</td>\n",
              "      <td>0</td>\n",
              "      <td>0</td>\n",
              "      <td>0</td>\n",
              "      <td>0</td>\n",
              "      <td>0</td>\n",
              "      <td>0</td>\n",
              "      <td>0</td>\n",
              "      <td>0</td>\n",
              "      <td>0</td>\n",
              "      <td>0</td>\n",
              "      <td>0</td>\n",
              "      <td>0</td>\n",
              "      <td>0</td>\n",
              "      <td>0</td>\n",
              "      <td>0</td>\n",
              "      <td>0</td>\n",
              "      <td>0</td>\n",
              "      <td>0</td>\n",
              "      <td>0</td>\n",
              "      <td>0</td>\n",
              "      <td>0</td>\n",
              "      <td>0</td>\n",
              "      <td>0</td>\n",
              "      <td>0</td>\n",
              "      <td>0</td>\n",
              "      <td>0</td>\n",
              "      <td>0</td>\n",
              "      <td>0</td>\n",
              "      <td>0</td>\n",
              "      <td>0</td>\n",
              "      <td>0</td>\n",
              "      <td>0</td>\n",
              "      <td>0</td>\n",
              "      <td>0</td>\n",
              "      <td>0</td>\n",
              "      <td>0</td>\n",
              "      <td>0</td>\n",
              "      <td>0</td>\n",
              "      <td>0</td>\n",
              "      <td>0</td>\n",
              "      <td>0</td>\n",
              "      <td>0</td>\n",
              "      <td>0</td>\n",
              "      <td>0</td>\n",
              "      <td>0</td>\n",
              "      <td>0</td>\n",
              "      <td>1</td>\n",
              "      <td>1</td>\n",
              "      <td>1</td>\n",
              "      <td>1</td>\n",
              "      <td>1</td>\n",
              "      <td>0</td>\n",
              "      <td>0</td>\n",
              "      <td>0</td>\n",
              "      <td>0</td>\n",
              "      <td>0</td>\n",
              "      <td>0</td>\n",
              "      <td>0</td>\n",
              "      <td>0</td>\n",
              "      <td>0</td>\n",
              "      <td>0</td>\n",
              "    </tr>\n",
              "    <tr>\n",
              "      <th>1</th>\n",
              "      <td>1</td>\n",
              "      <td>98-White-Widow</td>\n",
              "      <td>hybrid</td>\n",
              "      <td>4.7</td>\n",
              "      <td>The ‘98 Aloha White Widow is an especially pot...</td>\n",
              "      <td>0</td>\n",
              "      <td>0</td>\n",
              "      <td>0</td>\n",
              "      <td>0</td>\n",
              "      <td>0</td>\n",
              "      <td>0</td>\n",
              "      <td>0</td>\n",
              "      <td>0</td>\n",
              "      <td>0</td>\n",
              "      <td>0</td>\n",
              "      <td>0</td>\n",
              "      <td>0</td>\n",
              "      <td>0</td>\n",
              "      <td>0</td>\n",
              "      <td>0</td>\n",
              "      <td>0</td>\n",
              "      <td>0</td>\n",
              "      <td>0</td>\n",
              "      <td>0</td>\n",
              "      <td>0</td>\n",
              "      <td>0</td>\n",
              "      <td>0</td>\n",
              "      <td>0</td>\n",
              "      <td>0</td>\n",
              "      <td>0</td>\n",
              "      <td>0</td>\n",
              "      <td>0</td>\n",
              "      <td>0</td>\n",
              "      <td>0</td>\n",
              "      <td>0</td>\n",
              "      <td>0</td>\n",
              "      <td>0</td>\n",
              "      <td>0</td>\n",
              "      <td>0</td>\n",
              "      <td>0</td>\n",
              "      <td>0</td>\n",
              "      <td>0</td>\n",
              "      <td>0</td>\n",
              "      <td>0</td>\n",
              "      <td>0</td>\n",
              "      <td>0</td>\n",
              "      <td>0</td>\n",
              "      <td>0</td>\n",
              "      <td>0</td>\n",
              "      <td>0</td>\n",
              "      <td>0</td>\n",
              "      <td>0</td>\n",
              "      <td>0</td>\n",
              "      <td>0</td>\n",
              "      <td>0</td>\n",
              "      <td>0</td>\n",
              "      <td>1</td>\n",
              "      <td>1</td>\n",
              "      <td>0</td>\n",
              "      <td>0</td>\n",
              "      <td>1</td>\n",
              "      <td>1</td>\n",
              "      <td>1</td>\n",
              "      <td>0</td>\n",
              "      <td>0</td>\n",
              "      <td>0</td>\n",
              "      <td>0</td>\n",
              "      <td>0</td>\n",
              "      <td>0</td>\n",
              "      <td>0</td>\n",
              "      <td>0</td>\n",
              "    </tr>\n",
              "    <tr>\n",
              "      <th>2</th>\n",
              "      <td>2</td>\n",
              "      <td>1024</td>\n",
              "      <td>sativa</td>\n",
              "      <td>4.4</td>\n",
              "      <td>1024 is a sativa-dominant hybrid bred in Spain...</td>\n",
              "      <td>0</td>\n",
              "      <td>0</td>\n",
              "      <td>0</td>\n",
              "      <td>0</td>\n",
              "      <td>0</td>\n",
              "      <td>0</td>\n",
              "      <td>0</td>\n",
              "      <td>0</td>\n",
              "      <td>0</td>\n",
              "      <td>0</td>\n",
              "      <td>0</td>\n",
              "      <td>0</td>\n",
              "      <td>0</td>\n",
              "      <td>0</td>\n",
              "      <td>0</td>\n",
              "      <td>0</td>\n",
              "      <td>0</td>\n",
              "      <td>0</td>\n",
              "      <td>0</td>\n",
              "      <td>0</td>\n",
              "      <td>0</td>\n",
              "      <td>0</td>\n",
              "      <td>0</td>\n",
              "      <td>0</td>\n",
              "      <td>0</td>\n",
              "      <td>0</td>\n",
              "      <td>0</td>\n",
              "      <td>0</td>\n",
              "      <td>0</td>\n",
              "      <td>0</td>\n",
              "      <td>0</td>\n",
              "      <td>0</td>\n",
              "      <td>0</td>\n",
              "      <td>0</td>\n",
              "      <td>0</td>\n",
              "      <td>0</td>\n",
              "      <td>0</td>\n",
              "      <td>0</td>\n",
              "      <td>0</td>\n",
              "      <td>0</td>\n",
              "      <td>0</td>\n",
              "      <td>0</td>\n",
              "      <td>0</td>\n",
              "      <td>0</td>\n",
              "      <td>0</td>\n",
              "      <td>0</td>\n",
              "      <td>0</td>\n",
              "      <td>0</td>\n",
              "      <td>0</td>\n",
              "      <td>0</td>\n",
              "      <td>0</td>\n",
              "      <td>1</td>\n",
              "      <td>1</td>\n",
              "      <td>0</td>\n",
              "      <td>0</td>\n",
              "      <td>1</td>\n",
              "      <td>0</td>\n",
              "      <td>1</td>\n",
              "      <td>1</td>\n",
              "      <td>0</td>\n",
              "      <td>0</td>\n",
              "      <td>0</td>\n",
              "      <td>0</td>\n",
              "      <td>0</td>\n",
              "      <td>0</td>\n",
              "      <td>0</td>\n",
              "    </tr>\n",
              "    <tr>\n",
              "      <th>3</th>\n",
              "      <td>3</td>\n",
              "      <td>13-Dawgs</td>\n",
              "      <td>hybrid</td>\n",
              "      <td>4.2</td>\n",
              "      <td>13 Dawgs is a hybrid of G13 and Chemdawg genet...</td>\n",
              "      <td>0</td>\n",
              "      <td>0</td>\n",
              "      <td>0</td>\n",
              "      <td>0</td>\n",
              "      <td>0</td>\n",
              "      <td>0</td>\n",
              "      <td>0</td>\n",
              "      <td>0</td>\n",
              "      <td>0</td>\n",
              "      <td>0</td>\n",
              "      <td>0</td>\n",
              "      <td>0</td>\n",
              "      <td>0</td>\n",
              "      <td>0</td>\n",
              "      <td>0</td>\n",
              "      <td>0</td>\n",
              "      <td>0</td>\n",
              "      <td>0</td>\n",
              "      <td>0</td>\n",
              "      <td>0</td>\n",
              "      <td>0</td>\n",
              "      <td>0</td>\n",
              "      <td>0</td>\n",
              "      <td>0</td>\n",
              "      <td>0</td>\n",
              "      <td>0</td>\n",
              "      <td>0</td>\n",
              "      <td>0</td>\n",
              "      <td>0</td>\n",
              "      <td>0</td>\n",
              "      <td>0</td>\n",
              "      <td>0</td>\n",
              "      <td>0</td>\n",
              "      <td>0</td>\n",
              "      <td>0</td>\n",
              "      <td>0</td>\n",
              "      <td>0</td>\n",
              "      <td>0</td>\n",
              "      <td>0</td>\n",
              "      <td>0</td>\n",
              "      <td>0</td>\n",
              "      <td>0</td>\n",
              "      <td>0</td>\n",
              "      <td>0</td>\n",
              "      <td>0</td>\n",
              "      <td>0</td>\n",
              "      <td>0</td>\n",
              "      <td>0</td>\n",
              "      <td>0</td>\n",
              "      <td>0</td>\n",
              "      <td>0</td>\n",
              "      <td>1</td>\n",
              "      <td>0</td>\n",
              "      <td>1</td>\n",
              "      <td>0</td>\n",
              "      <td>1</td>\n",
              "      <td>0</td>\n",
              "      <td>0</td>\n",
              "      <td>1</td>\n",
              "      <td>1</td>\n",
              "      <td>0</td>\n",
              "      <td>0</td>\n",
              "      <td>0</td>\n",
              "      <td>0</td>\n",
              "      <td>0</td>\n",
              "      <td>0</td>\n",
              "    </tr>\n",
              "    <tr>\n",
              "      <th>4</th>\n",
              "      <td>4</td>\n",
              "      <td>24K-Gold</td>\n",
              "      <td>hybrid</td>\n",
              "      <td>4.6</td>\n",
              "      <td>Also known as Kosher Tangie, 24k Gold is a 60%...</td>\n",
              "      <td>0</td>\n",
              "      <td>0</td>\n",
              "      <td>0</td>\n",
              "      <td>0</td>\n",
              "      <td>0</td>\n",
              "      <td>0</td>\n",
              "      <td>0</td>\n",
              "      <td>0</td>\n",
              "      <td>0</td>\n",
              "      <td>0</td>\n",
              "      <td>0</td>\n",
              "      <td>0</td>\n",
              "      <td>0</td>\n",
              "      <td>0</td>\n",
              "      <td>0</td>\n",
              "      <td>0</td>\n",
              "      <td>0</td>\n",
              "      <td>0</td>\n",
              "      <td>0</td>\n",
              "      <td>0</td>\n",
              "      <td>0</td>\n",
              "      <td>0</td>\n",
              "      <td>0</td>\n",
              "      <td>0</td>\n",
              "      <td>0</td>\n",
              "      <td>0</td>\n",
              "      <td>0</td>\n",
              "      <td>0</td>\n",
              "      <td>0</td>\n",
              "      <td>0</td>\n",
              "      <td>0</td>\n",
              "      <td>0</td>\n",
              "      <td>0</td>\n",
              "      <td>0</td>\n",
              "      <td>0</td>\n",
              "      <td>0</td>\n",
              "      <td>0</td>\n",
              "      <td>0</td>\n",
              "      <td>0</td>\n",
              "      <td>0</td>\n",
              "      <td>0</td>\n",
              "      <td>0</td>\n",
              "      <td>0</td>\n",
              "      <td>0</td>\n",
              "      <td>0</td>\n",
              "      <td>0</td>\n",
              "      <td>0</td>\n",
              "      <td>0</td>\n",
              "      <td>0</td>\n",
              "      <td>0</td>\n",
              "      <td>0</td>\n",
              "      <td>0</td>\n",
              "      <td>0</td>\n",
              "      <td>0</td>\n",
              "      <td>1</td>\n",
              "      <td>1</td>\n",
              "      <td>0</td>\n",
              "      <td>1</td>\n",
              "      <td>1</td>\n",
              "      <td>0</td>\n",
              "      <td>1</td>\n",
              "      <td>0</td>\n",
              "      <td>0</td>\n",
              "      <td>0</td>\n",
              "      <td>0</td>\n",
              "      <td>0</td>\n",
              "    </tr>\n",
              "  </tbody>\n",
              "</table>\n",
              "</div>"
            ],
            "text/plain": [
              "   Unnamed: 0          Strain    Type  Rating  ... Focused  Sleepy  Dry  Mouth\n",
              "0           0          100-Og  hybrid     4.0  ...       0       0    0      0\n",
              "1           1  98-White-Widow  hybrid     4.7  ...       0       0    0      0\n",
              "2           2            1024  sativa     4.4  ...       0       0    0      0\n",
              "3           3        13-Dawgs  hybrid     4.2  ...       0       0    0      0\n",
              "4           4        24K-Gold  hybrid     4.6  ...       0       0    0      0\n",
              "\n",
              "[5 rows x 71 columns]"
            ]
          },
          "metadata": {
            "tags": []
          },
          "execution_count": 123
        }
      ]
    },
    {
      "cell_type": "code",
      "metadata": {
        "id": "w791ExV3Se4S",
        "colab_type": "code",
        "colab": {}
      },
      "source": [
        "#df2 = df2.drop(['Unnamed: 0'], axis=1)"
      ],
      "execution_count": 124,
      "outputs": []
    },
    {
      "cell_type": "code",
      "metadata": {
        "id": "pWCY35L5Wq9U",
        "colab_type": "code",
        "colab": {
          "base_uri": "https://localhost:8080/",
          "height": 34
        },
        "outputId": "adc51cf0-d37e-4bc3-a85d-b476813df3c5"
      },
      "source": [
        "#df2.shape"
      ],
      "execution_count": 126,
      "outputs": [
        {
          "output_type": "execute_result",
          "data": {
            "text/plain": [
              "(2351, 70)"
            ]
          },
          "metadata": {
            "tags": []
          },
          "execution_count": 126
        }
      ]
    },
    {
      "cell_type": "code",
      "metadata": {
        "id": "TXpIdet3Ig_o",
        "colab_type": "code",
        "colab": {
          "base_uri": "https://localhost:8080/",
          "height": 221
        },
        "outputId": "a1c374de-74ec-45d3-eb40-c018e0871115"
      },
      "source": [
        "# Check for any missing values\n",
        "\n",
        "#df2.isnull().sum()"
      ],
      "execution_count": 127,
      "outputs": [
        {
          "output_type": "execute_result",
          "data": {
            "text/plain": [
              "Strain          0\n",
              "Type            0\n",
              "Rating          0\n",
              "Description    33\n",
              "Earthy          0\n",
              "               ..\n",
              "Giggly          0\n",
              "Focused         0\n",
              "Sleepy          0\n",
              "Dry             0\n",
              "Mouth           0\n",
              "Length: 70, dtype: int64"
            ]
          },
          "metadata": {
            "tags": []
          },
          "execution_count": 127
        }
      ]
    },
    {
      "cell_type": "code",
      "metadata": {
        "id": "Tz-lVsGrUTkU",
        "colab_type": "code",
        "colab": {
          "base_uri": "https://localhost:8080/",
          "height": 136
        },
        "outputId": "8ee3c5e8-4996-4187-c1b7-9560ae2fac7b"
      },
      "source": [
        "df1.isnull().sum()"
      ],
      "execution_count": 2,
      "outputs": [
        {
          "output_type": "execute_result",
          "data": {
            "text/plain": [
              "Strain          0\n",
              "Type            0\n",
              "Rating          0\n",
              "Effects         0\n",
              "Flavor         46\n",
              "Description    33\n",
              "dtype: int64"
            ]
          },
          "metadata": {
            "tags": []
          },
          "execution_count": 2
        }
      ]
    },
    {
      "cell_type": "code",
      "metadata": {
        "id": "ttvyJmCcK18F",
        "colab_type": "code",
        "colab": {}
      },
      "source": [
        "# Fill missing values\n",
        "\n",
        "#df2[\"Description\"] = df2[\"Description\"].fillna(\"None\")"
      ],
      "execution_count": 129,
      "outputs": []
    },
    {
      "cell_type": "code",
      "metadata": {
        "id": "jSjng3PlUXiA",
        "colab_type": "code",
        "colab": {}
      },
      "source": [
        "df1[\"Flavor\"] = df1[\"Flavor\"].fillna(\"None\")\n",
        "df1[\"Description\"] = df1[\"Description\"].fillna(\"None\")"
      ],
      "execution_count": 3,
      "outputs": []
    },
    {
      "cell_type": "code",
      "metadata": {
        "id": "V-2W96PNLmKk",
        "colab_type": "code",
        "colab": {
          "base_uri": "https://localhost:8080/",
          "height": 34
        },
        "outputId": "f8f2a53c-74bb-474a-df4c-deefd2e9df42"
      },
      "source": [
        "df1['Type'].unique()"
      ],
      "execution_count": 4,
      "outputs": [
        {
          "output_type": "execute_result",
          "data": {
            "text/plain": [
              "array(['hybrid', 'sativa', 'indica'], dtype=object)"
            ]
          },
          "metadata": {
            "tags": []
          },
          "execution_count": 4
        }
      ]
    },
    {
      "cell_type": "code",
      "metadata": {
        "id": "X1wncMQYLp8f",
        "colab_type": "code",
        "colab": {
          "base_uri": "https://localhost:8080/",
          "height": 85
        },
        "outputId": "e2e0d16d-8cdb-44d0-ddc9-e416f1e0361a"
      },
      "source": [
        "df1['Type'].value_counts(ascending=False)"
      ],
      "execution_count": 5,
      "outputs": [
        {
          "output_type": "execute_result",
          "data": {
            "text/plain": [
              "hybrid    1212\n",
              "indica     699\n",
              "sativa     440\n",
              "Name: Type, dtype: int64"
            ]
          },
          "metadata": {
            "tags": []
          },
          "execution_count": 5
        }
      ]
    },
    {
      "cell_type": "code",
      "metadata": {
        "id": "ELNyZgzbO8Dn",
        "colab_type": "code",
        "colab": {
          "base_uri": "https://localhost:8080/",
          "height": 34
        },
        "outputId": "3d6148f8-6b7d-489f-99ef-a41bea93d4c4"
      },
      "source": [
        "df1.columns.to_list()"
      ],
      "execution_count": 6,
      "outputs": [
        {
          "output_type": "execute_result",
          "data": {
            "text/plain": [
              "['Strain', 'Type', 'Rating', 'Effects', 'Flavor', 'Description']"
            ]
          },
          "metadata": {
            "tags": []
          },
          "execution_count": 6
        }
      ]
    },
    {
      "cell_type": "code",
      "metadata": {
        "id": "Oq4Q0fAsPNoU",
        "colab_type": "code",
        "colab": {
          "base_uri": "https://localhost:8080/",
          "height": 297
        },
        "outputId": "ea425643-6100-409b-c7ec-8b5f41e11131"
      },
      "source": [
        "df1.describe()"
      ],
      "execution_count": 7,
      "outputs": [
        {
          "output_type": "execute_result",
          "data": {
            "text/html": [
              "<div>\n",
              "<style scoped>\n",
              "    .dataframe tbody tr th:only-of-type {\n",
              "        vertical-align: middle;\n",
              "    }\n",
              "\n",
              "    .dataframe tbody tr th {\n",
              "        vertical-align: top;\n",
              "    }\n",
              "\n",
              "    .dataframe thead th {\n",
              "        text-align: right;\n",
              "    }\n",
              "</style>\n",
              "<table border=\"1\" class=\"dataframe\">\n",
              "  <thead>\n",
              "    <tr style=\"text-align: right;\">\n",
              "      <th></th>\n",
              "      <th>Rating</th>\n",
              "    </tr>\n",
              "  </thead>\n",
              "  <tbody>\n",
              "    <tr>\n",
              "      <th>count</th>\n",
              "      <td>2351.000000</td>\n",
              "    </tr>\n",
              "    <tr>\n",
              "      <th>mean</th>\n",
              "      <td>4.310634</td>\n",
              "    </tr>\n",
              "    <tr>\n",
              "      <th>std</th>\n",
              "      <td>0.836394</td>\n",
              "    </tr>\n",
              "    <tr>\n",
              "      <th>min</th>\n",
              "      <td>0.000000</td>\n",
              "    </tr>\n",
              "    <tr>\n",
              "      <th>25%</th>\n",
              "      <td>4.200000</td>\n",
              "    </tr>\n",
              "    <tr>\n",
              "      <th>50%</th>\n",
              "      <td>4.400000</td>\n",
              "    </tr>\n",
              "    <tr>\n",
              "      <th>75%</th>\n",
              "      <td>4.700000</td>\n",
              "    </tr>\n",
              "    <tr>\n",
              "      <th>max</th>\n",
              "      <td>5.000000</td>\n",
              "    </tr>\n",
              "  </tbody>\n",
              "</table>\n",
              "</div>"
            ],
            "text/plain": [
              "            Rating\n",
              "count  2351.000000\n",
              "mean      4.310634\n",
              "std       0.836394\n",
              "min       0.000000\n",
              "25%       4.200000\n",
              "50%       4.400000\n",
              "75%       4.700000\n",
              "max       5.000000"
            ]
          },
          "metadata": {
            "tags": []
          },
          "execution_count": 7
        }
      ]
    },
    {
      "cell_type": "code",
      "metadata": {
        "id": "svr5eJGiPNle",
        "colab_type": "code",
        "colab": {
          "base_uri": "https://localhost:8080/",
          "height": 51
        },
        "outputId": "20f0f93e-a70d-4038-c40e-a3d21eea2fe9"
      },
      "source": [
        "df1['Rating'].unique()"
      ],
      "execution_count": 8,
      "outputs": [
        {
          "output_type": "execute_result",
          "data": {
            "text/plain": [
              "array([4. , 4.7, 4.4, 4.2, 4.6, 0. , 4.5, 4.3, 5. , 3.8, 4.1, 4.8, 3.4,\n",
              "       3.7, 3.9, 3. , 4.9, 3.6, 2.8, 3.3, 3.5, 3.2, 2. , 1. , 3.1, 2.5])"
            ]
          },
          "metadata": {
            "tags": []
          },
          "execution_count": 8
        }
      ]
    },
    {
      "cell_type": "code",
      "metadata": {
        "id": "MOq7NBAkOLaI",
        "colab_type": "code",
        "colab": {}
      },
      "source": [
        ""
      ],
      "execution_count": null,
      "outputs": []
    },
    {
      "cell_type": "markdown",
      "metadata": {
        "id": "Wqqas5ACEpHO",
        "colab_type": "text"
      },
      "source": [
        "Model MVP: Nearest Neighbors"
      ]
    },
    {
      "cell_type": "code",
      "metadata": {
        "id": "YzkUzq0OLtT4",
        "colab_type": "code",
        "colab": {
          "base_uri": "https://localhost:8080/",
          "height": 71
        },
        "outputId": "23ef20cf-ef46-4364-9a5d-4270c6760f8d"
      },
      "source": [
        "# Start NLP \n",
        "import pandas as pd\n",
        "from collections import Counter\n",
        "\n",
        "# Plotting\n",
        "import matplotlib.pyplot as plt\n",
        "import seaborn as sns\n",
        "\n",
        "# NLP Libraries\n",
        "import re\n",
        "from nltk.stem import PorterStemmer\n",
        "import spacy\n",
        "from spacy.tokenizer import Tokenizer"
      ],
      "execution_count": 9,
      "outputs": [
        {
          "output_type": "stream",
          "text": [
            "/usr/local/lib/python3.6/dist-packages/statsmodels/tools/_testing.py:19: FutureWarning: pandas.util.testing is deprecated. Use the functions in the public API at pandas.testing instead.\n",
            "  import pandas.util.testing as tm\n"
          ],
          "name": "stderr"
        }
      ]
    },
    {
      "cell_type": "code",
      "metadata": {
        "id": "7C6LlU1MQ2cZ",
        "colab_type": "code",
        "colab": {
          "base_uri": "https://localhost:8080/",
          "height": 581
        },
        "outputId": "7897984e-7518-4967-f906-50d62cca35fe"
      },
      "source": [
        "!python -m spacy download en_core_web_lg"
      ],
      "execution_count": 11,
      "outputs": [
        {
          "output_type": "stream",
          "text": [
            "Collecting en_core_web_lg==2.2.5\n",
            "\u001b[?25l  Downloading https://github.com/explosion/spacy-models/releases/download/en_core_web_lg-2.2.5/en_core_web_lg-2.2.5.tar.gz (827.9MB)\n",
            "\u001b[K     |████████████████████████████████| 827.9MB 1.2MB/s \n",
            "\u001b[?25hRequirement already satisfied: spacy>=2.2.2 in /usr/local/lib/python3.6/dist-packages (from en_core_web_lg==2.2.5) (2.2.4)\n",
            "Requirement already satisfied: tqdm<5.0.0,>=4.38.0 in /usr/local/lib/python3.6/dist-packages (from spacy>=2.2.2->en_core_web_lg==2.2.5) (4.41.1)\n",
            "Requirement already satisfied: requests<3.0.0,>=2.13.0 in /usr/local/lib/python3.6/dist-packages (from spacy>=2.2.2->en_core_web_lg==2.2.5) (2.23.0)\n",
            "Requirement already satisfied: thinc==7.4.0 in /usr/local/lib/python3.6/dist-packages (from spacy>=2.2.2->en_core_web_lg==2.2.5) (7.4.0)\n",
            "Requirement already satisfied: blis<0.5.0,>=0.4.0 in /usr/local/lib/python3.6/dist-packages (from spacy>=2.2.2->en_core_web_lg==2.2.5) (0.4.1)\n",
            "Requirement already satisfied: setuptools in /usr/local/lib/python3.6/dist-packages (from spacy>=2.2.2->en_core_web_lg==2.2.5) (47.3.1)\n",
            "Requirement already satisfied: catalogue<1.1.0,>=0.0.7 in /usr/local/lib/python3.6/dist-packages (from spacy>=2.2.2->en_core_web_lg==2.2.5) (1.0.0)\n",
            "Requirement already satisfied: srsly<1.1.0,>=1.0.2 in /usr/local/lib/python3.6/dist-packages (from spacy>=2.2.2->en_core_web_lg==2.2.5) (1.0.2)\n",
            "Requirement already satisfied: numpy>=1.15.0 in /usr/local/lib/python3.6/dist-packages (from spacy>=2.2.2->en_core_web_lg==2.2.5) (1.18.5)\n",
            "Requirement already satisfied: preshed<3.1.0,>=3.0.2 in /usr/local/lib/python3.6/dist-packages (from spacy>=2.2.2->en_core_web_lg==2.2.5) (3.0.2)\n",
            "Requirement already satisfied: plac<1.2.0,>=0.9.6 in /usr/local/lib/python3.6/dist-packages (from spacy>=2.2.2->en_core_web_lg==2.2.5) (1.1.3)\n",
            "Requirement already satisfied: wasabi<1.1.0,>=0.4.0 in /usr/local/lib/python3.6/dist-packages (from spacy>=2.2.2->en_core_web_lg==2.2.5) (0.6.0)\n",
            "Requirement already satisfied: cymem<2.1.0,>=2.0.2 in /usr/local/lib/python3.6/dist-packages (from spacy>=2.2.2->en_core_web_lg==2.2.5) (2.0.3)\n",
            "Requirement already satisfied: murmurhash<1.1.0,>=0.28.0 in /usr/local/lib/python3.6/dist-packages (from spacy>=2.2.2->en_core_web_lg==2.2.5) (1.0.2)\n",
            "Requirement already satisfied: certifi>=2017.4.17 in /usr/local/lib/python3.6/dist-packages (from requests<3.0.0,>=2.13.0->spacy>=2.2.2->en_core_web_lg==2.2.5) (2020.4.5.2)\n",
            "Requirement already satisfied: idna<3,>=2.5 in /usr/local/lib/python3.6/dist-packages (from requests<3.0.0,>=2.13.0->spacy>=2.2.2->en_core_web_lg==2.2.5) (2.9)\n",
            "Requirement already satisfied: chardet<4,>=3.0.2 in /usr/local/lib/python3.6/dist-packages (from requests<3.0.0,>=2.13.0->spacy>=2.2.2->en_core_web_lg==2.2.5) (3.0.4)\n",
            "Requirement already satisfied: urllib3!=1.25.0,!=1.25.1,<1.26,>=1.21.1 in /usr/local/lib/python3.6/dist-packages (from requests<3.0.0,>=2.13.0->spacy>=2.2.2->en_core_web_lg==2.2.5) (1.24.3)\n",
            "Requirement already satisfied: importlib-metadata>=0.20; python_version < \"3.8\" in /usr/local/lib/python3.6/dist-packages (from catalogue<1.1.0,>=0.0.7->spacy>=2.2.2->en_core_web_lg==2.2.5) (1.6.1)\n",
            "Requirement already satisfied: zipp>=0.5 in /usr/local/lib/python3.6/dist-packages (from importlib-metadata>=0.20; python_version < \"3.8\"->catalogue<1.1.0,>=0.0.7->spacy>=2.2.2->en_core_web_lg==2.2.5) (3.1.0)\n",
            "Building wheels for collected packages: en-core-web-lg\n",
            "  Building wheel for en-core-web-lg (setup.py) ... \u001b[?25l\u001b[?25hdone\n",
            "  Created wheel for en-core-web-lg: filename=en_core_web_lg-2.2.5-cp36-none-any.whl size=829180944 sha256=dbf318b06393f1dd7136d5e78b5643e3dcf9bdef362881fec5df8580a36350c3\n",
            "  Stored in directory: /tmp/pip-ephem-wheel-cache-m5nm72ke/wheels/2a/c1/a6/fc7a877b1efca9bc6a089d6f506f16d3868408f9ff89f8dbfc\n",
            "Successfully built en-core-web-lg\n",
            "Installing collected packages: en-core-web-lg\n",
            "Successfully installed en-core-web-lg-2.2.5\n",
            "\u001b[38;5;2m✔ Download and installation successful\u001b[0m\n",
            "You can now load the model via spacy.load('en_core_web_lg')\n"
          ],
          "name": "stdout"
        }
      ]
    },
    {
      "cell_type": "code",
      "metadata": {
        "id": "-q_idrRNQslr",
        "colab_type": "code",
        "colab": {}
      },
      "source": [
        "# Initialize spacy model & tokenizer\n",
        "\n",
        "nlp = spacy.load('en_core_web_lg')\n",
        "tokenizer = Tokenizer(nlp.vocab)"
      ],
      "execution_count": 10,
      "outputs": []
    },
    {
      "cell_type": "code",
      "metadata": {
        "id": "zNzKDWW2V_3S",
        "colab_type": "code",
        "colab": {}
      },
      "source": [
        "# Tokenize function\n",
        "\n",
        "def tokenize(text):\n",
        "    \n",
        "    tokens = re.sub(r'[^a-zA-Z ^0-9]', ',', text)\n",
        "    tokens = tokens.lower().replace(',', ' ')\n",
        "    tokens = tokens.split()\n",
        "    \n",
        "    return tokens"
      ],
      "execution_count": 11,
      "outputs": []
    },
    {
      "cell_type": "code",
      "metadata": {
        "id": "WXUBhbXsV_0r",
        "colab_type": "code",
        "colab": {
          "base_uri": "https://localhost:8080/",
          "height": 119
        },
        "outputId": "b945de63-4795-4a58-9958-89933f3053c9"
      },
      "source": [
        "# Tokenize Effects\n",
        "\n",
        "df1['Effects_tokens'] = df1['Effects'].apply(tokenize)\n",
        "df1['Effects_tokens'].head()"
      ],
      "execution_count": 12,
      "outputs": [
        {
          "output_type": "execute_result",
          "data": {
            "text/plain": [
              "0    [creative, energetic, tingly, euphoric, relaxed]\n",
              "1      [relaxed, aroused, creative, happy, energetic]\n",
              "2     [uplifted, happy, relaxed, energetic, creative]\n",
              "3       [tingly, creative, hungry, relaxed, uplifted]\n",
              "4     [happy, relaxed, euphoric, uplifted, talkative]\n",
              "Name: Effects_tokens, dtype: object"
            ]
          },
          "metadata": {
            "tags": []
          },
          "execution_count": 12
        }
      ]
    },
    {
      "cell_type": "code",
      "metadata": {
        "id": "z1JjDWFFWNij",
        "colab_type": "code",
        "colab": {
          "base_uri": "https://localhost:8080/",
          "height": 119
        },
        "outputId": "6021ed51-3ecf-44e4-948c-1de46ede077a"
      },
      "source": [
        "# Tokenize Flavors\n",
        "\n",
        "df1['Flavor_tokens'] = df1['Flavor'].apply(tokenize)\n",
        "df1['Flavor_tokens'].head()"
      ],
      "execution_count": 13,
      "outputs": [
        {
          "output_type": "execute_result",
          "data": {
            "text/plain": [
              "0          [earthy, sweet, citrus]\n",
              "1        [flowery, violet, diesel]\n",
              "2     [spicy, herbal, sage, woody]\n",
              "3    [apricot, citrus, grapefruit]\n",
              "4         [citrus, earthy, orange]\n",
              "Name: Flavor_tokens, dtype: object"
            ]
          },
          "metadata": {
            "tags": []
          },
          "execution_count": 13
        }
      ]
    },
    {
      "cell_type": "code",
      "metadata": {
        "id": "exw51Fd4WSxU",
        "colab_type": "code",
        "colab": {}
      },
      "source": [
        "# Counter Function - takes a corpus of document and returns dataframe of word counts\n",
        "\n",
        "from collections import Counter\n",
        " \n",
        "word_counts = Counter()\n",
        "\n",
        "def count(docs):\n",
        "\n",
        "        word_counts = Counter()\n",
        "        appears_in = Counter()\n",
        "        \n",
        "        total_docs = len(docs)\n",
        "\n",
        "        for doc in docs:\n",
        "            word_counts.update(doc)\n",
        "            appears_in.update(set(doc))\n",
        "\n",
        "        temp = zip(word_counts.keys(), word_counts.values())\n",
        "        \n",
        "        wc = pd.DataFrame(list(temp), columns = ['word', 'count'])\n",
        "\n",
        "        wc['rank'] = wc['count'].rank(method='first', ascending=False)\n",
        "        total = wc['count'].sum()\n",
        "\n",
        "        wc['pct_total'] = wc['count'].apply(lambda x: x / total)\n",
        "        \n",
        "        wc = wc.sort_values(by='rank')\n",
        "        wc['cul_pct_total'] = wc['pct_total'].cumsum()\n",
        "\n",
        "        t2 = zip(appears_in.keys(), appears_in.values())\n",
        "        ac = pd.DataFrame(t2, columns=['word', 'appears_in'])\n",
        "        wc = ac.merge(wc, on='word')\n",
        "\n",
        "        wc['appears_in_pct'] = wc['appears_in'].apply(lambda x: x / total_docs)\n",
        "        \n",
        "        return wc"
      ],
      "execution_count": 15,
      "outputs": []
    },
    {
      "cell_type": "code",
      "metadata": {
        "id": "h5RoSJL8WWv_",
        "colab_type": "code",
        "colab": {
          "base_uri": "https://localhost:8080/",
          "height": 545
        },
        "outputId": "b68329f7-dd6c-4bdc-e369-7f9725ea8ff5"
      },
      "source": [
        "wc_effects = count(df1['Effects_tokens'])\n",
        "\n",
        "wc_effects.sort_values(by='rank')"
      ],
      "execution_count": 16,
      "outputs": [
        {
          "output_type": "execute_result",
          "data": {
            "text/html": [
              "<div>\n",
              "<style scoped>\n",
              "    .dataframe tbody tr th:only-of-type {\n",
              "        vertical-align: middle;\n",
              "    }\n",
              "\n",
              "    .dataframe tbody tr th {\n",
              "        vertical-align: top;\n",
              "    }\n",
              "\n",
              "    .dataframe thead th {\n",
              "        text-align: right;\n",
              "    }\n",
              "</style>\n",
              "<table border=\"1\" class=\"dataframe\">\n",
              "  <thead>\n",
              "    <tr style=\"text-align: right;\">\n",
              "      <th></th>\n",
              "      <th>word</th>\n",
              "      <th>appears_in</th>\n",
              "      <th>count</th>\n",
              "      <th>rank</th>\n",
              "      <th>pct_total</th>\n",
              "      <th>cul_pct_total</th>\n",
              "      <th>appears_in_pct</th>\n",
              "    </tr>\n",
              "  </thead>\n",
              "  <tbody>\n",
              "    <tr>\n",
              "      <th>5</th>\n",
              "      <td>happy</td>\n",
              "      <td>1871</td>\n",
              "      <td>1871</td>\n",
              "      <td>1.0</td>\n",
              "      <td>0.166518</td>\n",
              "      <td>0.166518</td>\n",
              "      <td>0.795832</td>\n",
              "    </tr>\n",
              "    <tr>\n",
              "      <th>1</th>\n",
              "      <td>relaxed</td>\n",
              "      <td>1726</td>\n",
              "      <td>1726</td>\n",
              "      <td>2.0</td>\n",
              "      <td>0.153613</td>\n",
              "      <td>0.320132</td>\n",
              "      <td>0.734156</td>\n",
              "    </tr>\n",
              "    <tr>\n",
              "      <th>3</th>\n",
              "      <td>euphoric</td>\n",
              "      <td>1635</td>\n",
              "      <td>1635</td>\n",
              "      <td>3.0</td>\n",
              "      <td>0.145514</td>\n",
              "      <td>0.465646</td>\n",
              "      <td>0.695449</td>\n",
              "    </tr>\n",
              "    <tr>\n",
              "      <th>7</th>\n",
              "      <td>uplifted</td>\n",
              "      <td>1507</td>\n",
              "      <td>1507</td>\n",
              "      <td>4.0</td>\n",
              "      <td>0.134122</td>\n",
              "      <td>0.599769</td>\n",
              "      <td>0.641004</td>\n",
              "    </tr>\n",
              "    <tr>\n",
              "      <th>4</th>\n",
              "      <td>creative</td>\n",
              "      <td>747</td>\n",
              "      <td>747</td>\n",
              "      <td>5.0</td>\n",
              "      <td>0.066483</td>\n",
              "      <td>0.666251</td>\n",
              "      <td>0.317737</td>\n",
              "    </tr>\n",
              "    <tr>\n",
              "      <th>13</th>\n",
              "      <td>sleepy</td>\n",
              "      <td>738</td>\n",
              "      <td>738</td>\n",
              "      <td>6.0</td>\n",
              "      <td>0.065682</td>\n",
              "      <td>0.731933</td>\n",
              "      <td>0.313909</td>\n",
              "    </tr>\n",
              "    <tr>\n",
              "      <th>0</th>\n",
              "      <td>energetic</td>\n",
              "      <td>646</td>\n",
              "      <td>646</td>\n",
              "      <td>7.0</td>\n",
              "      <td>0.057494</td>\n",
              "      <td>0.789427</td>\n",
              "      <td>0.274777</td>\n",
              "    </tr>\n",
              "    <tr>\n",
              "      <th>12</th>\n",
              "      <td>focused</td>\n",
              "      <td>595</td>\n",
              "      <td>595</td>\n",
              "      <td>8.0</td>\n",
              "      <td>0.052955</td>\n",
              "      <td>0.842382</td>\n",
              "      <td>0.253084</td>\n",
              "    </tr>\n",
              "    <tr>\n",
              "      <th>8</th>\n",
              "      <td>hungry</td>\n",
              "      <td>479</td>\n",
              "      <td>479</td>\n",
              "      <td>9.0</td>\n",
              "      <td>0.042631</td>\n",
              "      <td>0.885012</td>\n",
              "      <td>0.203743</td>\n",
              "    </tr>\n",
              "    <tr>\n",
              "      <th>9</th>\n",
              "      <td>talkative</td>\n",
              "      <td>360</td>\n",
              "      <td>360</td>\n",
              "      <td>10.0</td>\n",
              "      <td>0.032040</td>\n",
              "      <td>0.917052</td>\n",
              "      <td>0.153126</td>\n",
              "    </tr>\n",
              "    <tr>\n",
              "      <th>2</th>\n",
              "      <td>tingly</td>\n",
              "      <td>346</td>\n",
              "      <td>346</td>\n",
              "      <td>11.0</td>\n",
              "      <td>0.030794</td>\n",
              "      <td>0.947846</td>\n",
              "      <td>0.147171</td>\n",
              "    </tr>\n",
              "    <tr>\n",
              "      <th>11</th>\n",
              "      <td>giggly</td>\n",
              "      <td>298</td>\n",
              "      <td>298</td>\n",
              "      <td>12.0</td>\n",
              "      <td>0.026522</td>\n",
              "      <td>0.974368</td>\n",
              "      <td>0.126755</td>\n",
              "    </tr>\n",
              "    <tr>\n",
              "      <th>6</th>\n",
              "      <td>aroused</td>\n",
              "      <td>199</td>\n",
              "      <td>199</td>\n",
              "      <td>13.0</td>\n",
              "      <td>0.017711</td>\n",
              "      <td>0.992079</td>\n",
              "      <td>0.084645</td>\n",
              "    </tr>\n",
              "    <tr>\n",
              "      <th>10</th>\n",
              "      <td>none</td>\n",
              "      <td>87</td>\n",
              "      <td>87</td>\n",
              "      <td>14.0</td>\n",
              "      <td>0.007743</td>\n",
              "      <td>0.999822</td>\n",
              "      <td>0.037006</td>\n",
              "    </tr>\n",
              "    <tr>\n",
              "      <th>14</th>\n",
              "      <td>dry</td>\n",
              "      <td>1</td>\n",
              "      <td>1</td>\n",
              "      <td>15.0</td>\n",
              "      <td>0.000089</td>\n",
              "      <td>0.999911</td>\n",
              "      <td>0.000425</td>\n",
              "    </tr>\n",
              "    <tr>\n",
              "      <th>15</th>\n",
              "      <td>mouth</td>\n",
              "      <td>1</td>\n",
              "      <td>1</td>\n",
              "      <td>16.0</td>\n",
              "      <td>0.000089</td>\n",
              "      <td>1.000000</td>\n",
              "      <td>0.000425</td>\n",
              "    </tr>\n",
              "  </tbody>\n",
              "</table>\n",
              "</div>"
            ],
            "text/plain": [
              "         word  appears_in  count  ...  pct_total  cul_pct_total  appears_in_pct\n",
              "5       happy        1871   1871  ...   0.166518       0.166518        0.795832\n",
              "1     relaxed        1726   1726  ...   0.153613       0.320132        0.734156\n",
              "3    euphoric        1635   1635  ...   0.145514       0.465646        0.695449\n",
              "7    uplifted        1507   1507  ...   0.134122       0.599769        0.641004\n",
              "4    creative         747    747  ...   0.066483       0.666251        0.317737\n",
              "13     sleepy         738    738  ...   0.065682       0.731933        0.313909\n",
              "0   energetic         646    646  ...   0.057494       0.789427        0.274777\n",
              "12    focused         595    595  ...   0.052955       0.842382        0.253084\n",
              "8      hungry         479    479  ...   0.042631       0.885012        0.203743\n",
              "9   talkative         360    360  ...   0.032040       0.917052        0.153126\n",
              "2      tingly         346    346  ...   0.030794       0.947846        0.147171\n",
              "11     giggly         298    298  ...   0.026522       0.974368        0.126755\n",
              "6     aroused         199    199  ...   0.017711       0.992079        0.084645\n",
              "10       none          87     87  ...   0.007743       0.999822        0.037006\n",
              "14        dry           1      1  ...   0.000089       0.999911        0.000425\n",
              "15      mouth           1      1  ...   0.000089       1.000000        0.000425\n",
              "\n",
              "[16 rows x 7 columns]"
            ]
          },
          "metadata": {
            "tags": []
          },
          "execution_count": 16
        }
      ]
    },
    {
      "cell_type": "code",
      "metadata": {
        "id": "LdYAu0O5WZya",
        "colab_type": "code",
        "colab": {
          "base_uri": "https://localhost:8080/",
          "height": 34
        },
        "outputId": "1b0b2f72-89ad-4137-8cd3-2a7464b189c0"
      },
      "source": [
        "wc_effects.shape"
      ],
      "execution_count": 17,
      "outputs": [
        {
          "output_type": "execute_result",
          "data": {
            "text/plain": [
              "(16, 7)"
            ]
          },
          "metadata": {
            "tags": []
          },
          "execution_count": 17
        }
      ]
    },
    {
      "cell_type": "code",
      "metadata": {
        "id": "adKWF-ERGdOV",
        "colab_type": "code",
        "colab": {
          "base_uri": "https://localhost:8080/",
          "height": 279
        },
        "outputId": "44d626f7-f79b-47f4-da31-4dff25a5c639"
      },
      "source": [
        "#Cumulative Distribution Plot\n",
        "\n",
        "sns.lineplot(x='rank', y='cul_pct_total', data=wc_effects);"
      ],
      "execution_count": 18,
      "outputs": [
        {
          "output_type": "display_data",
          "data": {
            "image/png": "[encoded data removed]",
            "text/plain": [
              "<Figure size 432x288 with 1 Axes>"
            ]
          },
          "metadata": {
            "tags": [],
            "needs_background": "light"
          }
        }
      ]
    },
    {
      "cell_type": "code",
      "metadata": {
        "id": "xEEEJW2EWeR1",
        "colab_type": "code",
        "colab": {
          "base_uri": "https://localhost:8080/",
          "height": 1000
        },
        "outputId": "5b9f7bc4-200a-43d5-dc88-3edd8c0bed0d"
      },
      "source": [
        "wc_flavor = count(df1['Flavor_tokens'])\n",
        "\n",
        "wc_flavor.sort_values(by='rank')"
      ],
      "execution_count": 19,
      "outputs": [
        {
          "output_type": "execute_result",
          "data": {
            "text/html": [
              "<div>\n",
              "<style scoped>\n",
              "    .dataframe tbody tr th:only-of-type {\n",
              "        vertical-align: middle;\n",
              "    }\n",
              "\n",
              "    .dataframe tbody tr th {\n",
              "        vertical-align: top;\n",
              "    }\n",
              "\n",
              "    .dataframe thead th {\n",
              "        text-align: right;\n",
              "    }\n",
              "</style>\n",
              "<table border=\"1\" class=\"dataframe\">\n",
              "  <thead>\n",
              "    <tr style=\"text-align: right;\">\n",
              "      <th></th>\n",
              "      <th>word</th>\n",
              "      <th>appears_in</th>\n",
              "      <th>count</th>\n",
              "      <th>rank</th>\n",
              "      <th>pct_total</th>\n",
              "      <th>cul_pct_total</th>\n",
              "      <th>appears_in_pct</th>\n",
              "    </tr>\n",
              "  </thead>\n",
              "  <tbody>\n",
              "    <tr>\n",
              "      <th>1</th>\n",
              "      <td>earthy</td>\n",
              "      <td>1105</td>\n",
              "      <td>1105</td>\n",
              "      <td>1.0</td>\n",
              "      <td>0.160191</td>\n",
              "      <td>0.160191</td>\n",
              "      <td>0.470013</td>\n",
              "    </tr>\n",
              "    <tr>\n",
              "      <th>0</th>\n",
              "      <td>sweet</td>\n",
              "      <td>1053</td>\n",
              "      <td>1053</td>\n",
              "      <td>2.0</td>\n",
              "      <td>0.152653</td>\n",
              "      <td>0.312844</td>\n",
              "      <td>0.447895</td>\n",
              "    </tr>\n",
              "    <tr>\n",
              "      <th>2</th>\n",
              "      <td>citrus</td>\n",
              "      <td>527</td>\n",
              "      <td>527</td>\n",
              "      <td>3.0</td>\n",
              "      <td>0.076399</td>\n",
              "      <td>0.389243</td>\n",
              "      <td>0.224160</td>\n",
              "    </tr>\n",
              "    <tr>\n",
              "      <th>14</th>\n",
              "      <td>pungent</td>\n",
              "      <td>451</td>\n",
              "      <td>451</td>\n",
              "      <td>4.0</td>\n",
              "      <td>0.065381</td>\n",
              "      <td>0.454625</td>\n",
              "      <td>0.191833</td>\n",
              "    </tr>\n",
              "    <tr>\n",
              "      <th>18</th>\n",
              "      <td>berry</td>\n",
              "      <td>355</td>\n",
              "      <td>355</td>\n",
              "      <td>5.0</td>\n",
              "      <td>0.051464</td>\n",
              "      <td>0.506089</td>\n",
              "      <td>0.151000</td>\n",
              "    </tr>\n",
              "    <tr>\n",
              "      <th>16</th>\n",
              "      <td>pine</td>\n",
              "      <td>300</td>\n",
              "      <td>300</td>\n",
              "      <td>6.0</td>\n",
              "      <td>0.043491</td>\n",
              "      <td>0.549580</td>\n",
              "      <td>0.127605</td>\n",
              "    </tr>\n",
              "    <tr>\n",
              "      <th>3</th>\n",
              "      <td>flowery</td>\n",
              "      <td>267</td>\n",
              "      <td>267</td>\n",
              "      <td>7.0</td>\n",
              "      <td>0.038707</td>\n",
              "      <td>0.588286</td>\n",
              "      <td>0.113569</td>\n",
              "    </tr>\n",
              "    <tr>\n",
              "      <th>8</th>\n",
              "      <td>woody</td>\n",
              "      <td>255</td>\n",
              "      <td>255</td>\n",
              "      <td>8.0</td>\n",
              "      <td>0.036967</td>\n",
              "      <td>0.625254</td>\n",
              "      <td>0.108464</td>\n",
              "    </tr>\n",
              "    <tr>\n",
              "      <th>5</th>\n",
              "      <td>diesel</td>\n",
              "      <td>240</td>\n",
              "      <td>240</td>\n",
              "      <td>9.0</td>\n",
              "      <td>0.034793</td>\n",
              "      <td>0.660046</td>\n",
              "      <td>0.102084</td>\n",
              "    </tr>\n",
              "    <tr>\n",
              "      <th>7</th>\n",
              "      <td>spicy</td>\n",
              "      <td>226</td>\n",
              "      <td>226</td>\n",
              "      <td>10.0</td>\n",
              "      <td>0.032763</td>\n",
              "      <td>0.692810</td>\n",
              "      <td>0.096129</td>\n",
              "    </tr>\n",
              "    <tr>\n",
              "      <th>9</th>\n",
              "      <td>herbal</td>\n",
              "      <td>226</td>\n",
              "      <td>226</td>\n",
              "      <td>11.0</td>\n",
              "      <td>0.032763</td>\n",
              "      <td>0.725573</td>\n",
              "      <td>0.096129</td>\n",
              "    </tr>\n",
              "    <tr>\n",
              "      <th>25</th>\n",
              "      <td>lemon</td>\n",
              "      <td>190</td>\n",
              "      <td>190</td>\n",
              "      <td>12.0</td>\n",
              "      <td>0.027544</td>\n",
              "      <td>0.753117</td>\n",
              "      <td>0.080817</td>\n",
              "    </tr>\n",
              "    <tr>\n",
              "      <th>17</th>\n",
              "      <td>skunk</td>\n",
              "      <td>174</td>\n",
              "      <td>174</td>\n",
              "      <td>13.0</td>\n",
              "      <td>0.025225</td>\n",
              "      <td>0.778342</td>\n",
              "      <td>0.074011</td>\n",
              "    </tr>\n",
              "    <tr>\n",
              "      <th>13</th>\n",
              "      <td>none</td>\n",
              "      <td>156</td>\n",
              "      <td>156</td>\n",
              "      <td>14.0</td>\n",
              "      <td>0.022615</td>\n",
              "      <td>0.800957</td>\n",
              "      <td>0.066355</td>\n",
              "    </tr>\n",
              "    <tr>\n",
              "      <th>32</th>\n",
              "      <td>tropical</td>\n",
              "      <td>153</td>\n",
              "      <td>153</td>\n",
              "      <td>15.0</td>\n",
              "      <td>0.022180</td>\n",
              "      <td>0.823137</td>\n",
              "      <td>0.065079</td>\n",
              "    </tr>\n",
              "    <tr>\n",
              "      <th>34</th>\n",
              "      <td>blueberry</td>\n",
              "      <td>145</td>\n",
              "      <td>145</td>\n",
              "      <td>16.0</td>\n",
              "      <td>0.021021</td>\n",
              "      <td>0.844158</td>\n",
              "      <td>0.061676</td>\n",
              "    </tr>\n",
              "    <tr>\n",
              "      <th>15</th>\n",
              "      <td>grape</td>\n",
              "      <td>126</td>\n",
              "      <td>126</td>\n",
              "      <td>17.0</td>\n",
              "      <td>0.018266</td>\n",
              "      <td>0.862424</td>\n",
              "      <td>0.053594</td>\n",
              "    </tr>\n",
              "    <tr>\n",
              "      <th>12</th>\n",
              "      <td>orange</td>\n",
              "      <td>77</td>\n",
              "      <td>77</td>\n",
              "      <td>18.0</td>\n",
              "      <td>0.011163</td>\n",
              "      <td>0.873587</td>\n",
              "      <td>0.032752</td>\n",
              "    </tr>\n",
              "    <tr>\n",
              "      <th>21</th>\n",
              "      <td>cheese</td>\n",
              "      <td>64</td>\n",
              "      <td>68</td>\n",
              "      <td>19.0</td>\n",
              "      <td>0.009858</td>\n",
              "      <td>0.883444</td>\n",
              "      <td>0.027222</td>\n",
              "    </tr>\n",
              "    <tr>\n",
              "      <th>19</th>\n",
              "      <td>pepper</td>\n",
              "      <td>58</td>\n",
              "      <td>58</td>\n",
              "      <td>20.0</td>\n",
              "      <td>0.008408</td>\n",
              "      <td>0.891853</td>\n",
              "      <td>0.024670</td>\n",
              "    </tr>\n",
              "    <tr>\n",
              "      <th>39</th>\n",
              "      <td>lime</td>\n",
              "      <td>53</td>\n",
              "      <td>53</td>\n",
              "      <td>21.0</td>\n",
              "      <td>0.007683</td>\n",
              "      <td>0.899536</td>\n",
              "      <td>0.022544</td>\n",
              "    </tr>\n",
              "    <tr>\n",
              "      <th>33</th>\n",
              "      <td>strawberry</td>\n",
              "      <td>47</td>\n",
              "      <td>47</td>\n",
              "      <td>22.0</td>\n",
              "      <td>0.006814</td>\n",
              "      <td>0.906350</td>\n",
              "      <td>0.019991</td>\n",
              "    </tr>\n",
              "    <tr>\n",
              "      <th>46</th>\n",
              "      <td>pineapple</td>\n",
              "      <td>42</td>\n",
              "      <td>42</td>\n",
              "      <td>23.0</td>\n",
              "      <td>0.006089</td>\n",
              "      <td>0.912438</td>\n",
              "      <td>0.017865</td>\n",
              "    </tr>\n",
              "    <tr>\n",
              "      <th>42</th>\n",
              "      <td>minty</td>\n",
              "      <td>41</td>\n",
              "      <td>41</td>\n",
              "      <td>24.0</td>\n",
              "      <td>0.005944</td>\n",
              "      <td>0.918382</td>\n",
              "      <td>0.017439</td>\n",
              "    </tr>\n",
              "    <tr>\n",
              "      <th>6</th>\n",
              "      <td>sage</td>\n",
              "      <td>39</td>\n",
              "      <td>39</td>\n",
              "      <td>25.0</td>\n",
              "      <td>0.005654</td>\n",
              "      <td>0.924036</td>\n",
              "      <td>0.016589</td>\n",
              "    </tr>\n",
              "    <tr>\n",
              "      <th>11</th>\n",
              "      <td>grapefruit</td>\n",
              "      <td>38</td>\n",
              "      <td>38</td>\n",
              "      <td>26.0</td>\n",
              "      <td>0.005509</td>\n",
              "      <td>0.929545</td>\n",
              "      <td>0.016163</td>\n",
              "    </tr>\n",
              "    <tr>\n",
              "      <th>20</th>\n",
              "      <td>chemical</td>\n",
              "      <td>37</td>\n",
              "      <td>37</td>\n",
              "      <td>27.0</td>\n",
              "      <td>0.005364</td>\n",
              "      <td>0.934909</td>\n",
              "      <td>0.015738</td>\n",
              "    </tr>\n",
              "    <tr>\n",
              "      <th>38</th>\n",
              "      <td>lavender</td>\n",
              "      <td>37</td>\n",
              "      <td>37</td>\n",
              "      <td>28.0</td>\n",
              "      <td>0.005364</td>\n",
              "      <td>0.940273</td>\n",
              "      <td>0.015738</td>\n",
              "    </tr>\n",
              "    <tr>\n",
              "      <th>27</th>\n",
              "      <td>vanilla</td>\n",
              "      <td>34</td>\n",
              "      <td>34</td>\n",
              "      <td>29.0</td>\n",
              "      <td>0.004929</td>\n",
              "      <td>0.945202</td>\n",
              "      <td>0.014462</td>\n",
              "    </tr>\n",
              "    <tr>\n",
              "      <th>43</th>\n",
              "      <td>tree</td>\n",
              "      <td>34</td>\n",
              "      <td>34</td>\n",
              "      <td>30.0</td>\n",
              "      <td>0.004929</td>\n",
              "      <td>0.950130</td>\n",
              "      <td>0.014462</td>\n",
              "    </tr>\n",
              "    <tr>\n",
              "      <th>44</th>\n",
              "      <td>fruit</td>\n",
              "      <td>34</td>\n",
              "      <td>34</td>\n",
              "      <td>31.0</td>\n",
              "      <td>0.004929</td>\n",
              "      <td>0.955059</td>\n",
              "      <td>0.014462</td>\n",
              "    </tr>\n",
              "    <tr>\n",
              "      <th>24</th>\n",
              "      <td>mango</td>\n",
              "      <td>32</td>\n",
              "      <td>32</td>\n",
              "      <td>32.0</td>\n",
              "      <td>0.004639</td>\n",
              "      <td>0.959698</td>\n",
              "      <td>0.013611</td>\n",
              "    </tr>\n",
              "    <tr>\n",
              "      <th>37</th>\n",
              "      <td>honey</td>\n",
              "      <td>31</td>\n",
              "      <td>31</td>\n",
              "      <td>33.0</td>\n",
              "      <td>0.004494</td>\n",
              "      <td>0.964193</td>\n",
              "      <td>0.013186</td>\n",
              "    </tr>\n",
              "    <tr>\n",
              "      <th>41</th>\n",
              "      <td>ammonia</td>\n",
              "      <td>28</td>\n",
              "      <td>28</td>\n",
              "      <td>34.0</td>\n",
              "      <td>0.004059</td>\n",
              "      <td>0.968252</td>\n",
              "      <td>0.011910</td>\n",
              "    </tr>\n",
              "    <tr>\n",
              "      <th>29</th>\n",
              "      <td>nutty</td>\n",
              "      <td>26</td>\n",
              "      <td>26</td>\n",
              "      <td>35.0</td>\n",
              "      <td>0.003769</td>\n",
              "      <td>0.972021</td>\n",
              "      <td>0.011059</td>\n",
              "    </tr>\n",
              "    <tr>\n",
              "      <th>40</th>\n",
              "      <td>coffee</td>\n",
              "      <td>24</td>\n",
              "      <td>24</td>\n",
              "      <td>36.0</td>\n",
              "      <td>0.003479</td>\n",
              "      <td>0.975500</td>\n",
              "      <td>0.010208</td>\n",
              "    </tr>\n",
              "    <tr>\n",
              "      <th>22</th>\n",
              "      <td>menthol</td>\n",
              "      <td>23</td>\n",
              "      <td>23</td>\n",
              "      <td>37.0</td>\n",
              "      <td>0.003334</td>\n",
              "      <td>0.978834</td>\n",
              "      <td>0.009783</td>\n",
              "    </tr>\n",
              "    <tr>\n",
              "      <th>45</th>\n",
              "      <td>butter</td>\n",
              "      <td>19</td>\n",
              "      <td>19</td>\n",
              "      <td>38.0</td>\n",
              "      <td>0.002754</td>\n",
              "      <td>0.981589</td>\n",
              "      <td>0.008082</td>\n",
              "    </tr>\n",
              "    <tr>\n",
              "      <th>35</th>\n",
              "      <td>mint</td>\n",
              "      <td>18</td>\n",
              "      <td>18</td>\n",
              "      <td>39.0</td>\n",
              "      <td>0.002609</td>\n",
              "      <td>0.984198</td>\n",
              "      <td>0.007656</td>\n",
              "    </tr>\n",
              "    <tr>\n",
              "      <th>30</th>\n",
              "      <td>tea</td>\n",
              "      <td>17</td>\n",
              "      <td>17</td>\n",
              "      <td>40.0</td>\n",
              "      <td>0.002464</td>\n",
              "      <td>0.986663</td>\n",
              "      <td>0.007231</td>\n",
              "    </tr>\n",
              "    <tr>\n",
              "      <th>36</th>\n",
              "      <td>apple</td>\n",
              "      <td>16</td>\n",
              "      <td>16</td>\n",
              "      <td>41.0</td>\n",
              "      <td>0.002320</td>\n",
              "      <td>0.988982</td>\n",
              "      <td>0.006806</td>\n",
              "    </tr>\n",
              "    <tr>\n",
              "      <th>48</th>\n",
              "      <td>rose</td>\n",
              "      <td>16</td>\n",
              "      <td>16</td>\n",
              "      <td>42.0</td>\n",
              "      <td>0.002320</td>\n",
              "      <td>0.991302</td>\n",
              "      <td>0.006806</td>\n",
              "    </tr>\n",
              "    <tr>\n",
              "      <th>10</th>\n",
              "      <td>apricot</td>\n",
              "      <td>9</td>\n",
              "      <td>9</td>\n",
              "      <td>43.0</td>\n",
              "      <td>0.001305</td>\n",
              "      <td>0.992607</td>\n",
              "      <td>0.003828</td>\n",
              "    </tr>\n",
              "    <tr>\n",
              "      <th>23</th>\n",
              "      <td>blue</td>\n",
              "      <td>9</td>\n",
              "      <td>9</td>\n",
              "      <td>44.0</td>\n",
              "      <td>0.001305</td>\n",
              "      <td>0.993911</td>\n",
              "      <td>0.003828</td>\n",
              "    </tr>\n",
              "    <tr>\n",
              "      <th>31</th>\n",
              "      <td>tobacco</td>\n",
              "      <td>9</td>\n",
              "      <td>9</td>\n",
              "      <td>45.0</td>\n",
              "      <td>0.001305</td>\n",
              "      <td>0.995216</td>\n",
              "      <td>0.003828</td>\n",
              "    </tr>\n",
              "    <tr>\n",
              "      <th>47</th>\n",
              "      <td>tar</td>\n",
              "      <td>8</td>\n",
              "      <td>8</td>\n",
              "      <td>46.0</td>\n",
              "      <td>0.001160</td>\n",
              "      <td>0.996376</td>\n",
              "      <td>0.003403</td>\n",
              "    </tr>\n",
              "    <tr>\n",
              "      <th>4</th>\n",
              "      <td>violet</td>\n",
              "      <td>7</td>\n",
              "      <td>7</td>\n",
              "      <td>47.0</td>\n",
              "      <td>0.001015</td>\n",
              "      <td>0.997391</td>\n",
              "      <td>0.002977</td>\n",
              "    </tr>\n",
              "    <tr>\n",
              "      <th>28</th>\n",
              "      <td>chestnut</td>\n",
              "      <td>7</td>\n",
              "      <td>7</td>\n",
              "      <td>48.0</td>\n",
              "      <td>0.001015</td>\n",
              "      <td>0.998405</td>\n",
              "      <td>0.002977</td>\n",
              "    </tr>\n",
              "    <tr>\n",
              "      <th>26</th>\n",
              "      <td>peach</td>\n",
              "      <td>6</td>\n",
              "      <td>6</td>\n",
              "      <td>49.0</td>\n",
              "      <td>0.000870</td>\n",
              "      <td>0.999275</td>\n",
              "      <td>0.002552</td>\n",
              "    </tr>\n",
              "    <tr>\n",
              "      <th>50</th>\n",
              "      <td>pear</td>\n",
              "      <td>3</td>\n",
              "      <td>3</td>\n",
              "      <td>50.0</td>\n",
              "      <td>0.000435</td>\n",
              "      <td>0.999710</td>\n",
              "      <td>0.001276</td>\n",
              "    </tr>\n",
              "    <tr>\n",
              "      <th>49</th>\n",
              "      <td>plum</td>\n",
              "      <td>2</td>\n",
              "      <td>2</td>\n",
              "      <td>51.0</td>\n",
              "      <td>0.000290</td>\n",
              "      <td>1.000000</td>\n",
              "      <td>0.000851</td>\n",
              "    </tr>\n",
              "  </tbody>\n",
              "</table>\n",
              "</div>"
            ],
            "text/plain": [
              "          word  appears_in  count  ...  pct_total  cul_pct_total  appears_in_pct\n",
              "1       earthy        1105   1105  ...   0.160191       0.160191        0.470013\n",
              "0        sweet        1053   1053  ...   0.152653       0.312844        0.447895\n",
              "2       citrus         527    527  ...   0.076399       0.389243        0.224160\n",
              "14     pungent         451    451  ...   0.065381       0.454625        0.191833\n",
              "18       berry         355    355  ...   0.051464       0.506089        0.151000\n",
              "16        pine         300    300  ...   0.043491       0.549580        0.127605\n",
              "3      flowery         267    267  ...   0.038707       0.588286        0.113569\n",
              "8        woody         255    255  ...   0.036967       0.625254        0.108464\n",
              "5       diesel         240    240  ...   0.034793       0.660046        0.102084\n",
              "7        spicy         226    226  ...   0.032763       0.692810        0.096129\n",
              "9       herbal         226    226  ...   0.032763       0.725573        0.096129\n",
              "25       lemon         190    190  ...   0.027544       0.753117        0.080817\n",
              "17       skunk         174    174  ...   0.025225       0.778342        0.074011\n",
              "13        none         156    156  ...   0.022615       0.800957        0.066355\n",
              "32    tropical         153    153  ...   0.022180       0.823137        0.065079\n",
              "34   blueberry         145    145  ...   0.021021       0.844158        0.061676\n",
              "15       grape         126    126  ...   0.018266       0.862424        0.053594\n",
              "12      orange          77     77  ...   0.011163       0.873587        0.032752\n",
              "21      cheese          64     68  ...   0.009858       0.883444        0.027222\n",
              "19      pepper          58     58  ...   0.008408       0.891853        0.024670\n",
              "39        lime          53     53  ...   0.007683       0.899536        0.022544\n",
              "33  strawberry          47     47  ...   0.006814       0.906350        0.019991\n",
              "46   pineapple          42     42  ...   0.006089       0.912438        0.017865\n",
              "42       minty          41     41  ...   0.005944       0.918382        0.017439\n",
              "6         sage          39     39  ...   0.005654       0.924036        0.016589\n",
              "11  grapefruit          38     38  ...   0.005509       0.929545        0.016163\n",
              "20    chemical          37     37  ...   0.005364       0.934909        0.015738\n",
              "38    lavender          37     37  ...   0.005364       0.940273        0.015738\n",
              "27     vanilla          34     34  ...   0.004929       0.945202        0.014462\n",
              "43        tree          34     34  ...   0.004929       0.950130        0.014462\n",
              "44       fruit          34     34  ...   0.004929       0.955059        0.014462\n",
              "24       mango          32     32  ...   0.004639       0.959698        0.013611\n",
              "37       honey          31     31  ...   0.004494       0.964193        0.013186\n",
              "41     ammonia          28     28  ...   0.004059       0.968252        0.011910\n",
              "29       nutty          26     26  ...   0.003769       0.972021        0.011059\n",
              "40      coffee          24     24  ...   0.003479       0.975500        0.010208\n",
              "22     menthol          23     23  ...   0.003334       0.978834        0.009783\n",
              "45      butter          19     19  ...   0.002754       0.981589        0.008082\n",
              "35        mint          18     18  ...   0.002609       0.984198        0.007656\n",
              "30         tea          17     17  ...   0.002464       0.986663        0.007231\n",
              "36       apple          16     16  ...   0.002320       0.988982        0.006806\n",
              "48        rose          16     16  ...   0.002320       0.991302        0.006806\n",
              "10     apricot           9      9  ...   0.001305       0.992607        0.003828\n",
              "23        blue           9      9  ...   0.001305       0.993911        0.003828\n",
              "31     tobacco           9      9  ...   0.001305       0.995216        0.003828\n",
              "47         tar           8      8  ...   0.001160       0.996376        0.003403\n",
              "4       violet           7      7  ...   0.001015       0.997391        0.002977\n",
              "28    chestnut           7      7  ...   0.001015       0.998405        0.002977\n",
              "26       peach           6      6  ...   0.000870       0.999275        0.002552\n",
              "50        pear           3      3  ...   0.000435       0.999710        0.001276\n",
              "49        plum           2      2  ...   0.000290       1.000000        0.000851\n",
              "\n",
              "[51 rows x 7 columns]"
            ]
          },
          "metadata": {
            "tags": []
          },
          "execution_count": 19
        }
      ]
    },
    {
      "cell_type": "code",
      "metadata": {
        "id": "VLwpb-BpWwVC",
        "colab_type": "code",
        "colab": {
          "base_uri": "https://localhost:8080/",
          "height": 34
        },
        "outputId": "579d3f5e-2a35-45a2-8701-d21a13dfe60e"
      },
      "source": [
        "wc_flavor.shape"
      ],
      "execution_count": 20,
      "outputs": [
        {
          "output_type": "execute_result",
          "data": {
            "text/plain": [
              "(51, 7)"
            ]
          },
          "metadata": {
            "tags": []
          },
          "execution_count": 20
        }
      ]
    },
    {
      "cell_type": "code",
      "metadata": {
        "id": "IfkmyT_SGlWJ",
        "colab_type": "code",
        "colab": {
          "base_uri": "https://localhost:8080/",
          "height": 279
        },
        "outputId": "8afaa371-5f7a-4b43-ed41-0c908c582e25"
      },
      "source": [
        "#Cumulative Distribution Plot\n",
        "\n",
        "sns.lineplot(x='rank', y='cul_pct_total', data=wc_flavor);"
      ],
      "execution_count": 21,
      "outputs": [
        {
          "output_type": "display_data",
          "data": {
            "image/png": "[encoded data removed]",
            "text/plain": [
              "<Figure size 432x288 with 1 Axes>"
            ]
          },
          "metadata": {
            "tags": [],
            "needs_background": "light"
          }
        }
      ]
    },
    {
      "cell_type": "code",
      "metadata": {
        "id": "5_dGDc4yWh3M",
        "colab_type": "code",
        "colab": {
          "base_uri": "https://localhost:8080/",
          "height": 289
        },
        "outputId": "77ebbc97-4b56-40ad-9292-fb222c37f588"
      },
      "source": [
        "# Unique effects\n",
        "\n",
        "wc_effects = wc_effects.sort_values(by='rank')\n",
        "wc_effects['word'].to_list()"
      ],
      "execution_count": 22,
      "outputs": [
        {
          "output_type": "execute_result",
          "data": {
            "text/plain": [
              "['happy',\n",
              " 'relaxed',\n",
              " 'euphoric',\n",
              " 'uplifted',\n",
              " 'creative',\n",
              " 'sleepy',\n",
              " 'energetic',\n",
              " 'focused',\n",
              " 'hungry',\n",
              " 'talkative',\n",
              " 'tingly',\n",
              " 'giggly',\n",
              " 'aroused',\n",
              " 'none',\n",
              " 'dry',\n",
              " 'mouth']"
            ]
          },
          "metadata": {
            "tags": []
          },
          "execution_count": 22
        }
      ]
    },
    {
      "cell_type": "code",
      "metadata": {
        "id": "JkhAy4X6W9VC",
        "colab_type": "code",
        "colab": {
          "base_uri": "https://localhost:8080/",
          "height": 884
        },
        "outputId": "a78823d5-35ba-43bb-8c20-6edc8c5b2ed3"
      },
      "source": [
        "# Unique flavors \n",
        "\n",
        "wc_flavor = wc_flavor.sort_values(by='rank')\n",
        "wc_flavor['word'].to_list()"
      ],
      "execution_count": 23,
      "outputs": [
        {
          "output_type": "execute_result",
          "data": {
            "text/plain": [
              "['earthy',\n",
              " 'sweet',\n",
              " 'citrus',\n",
              " 'pungent',\n",
              " 'berry',\n",
              " 'pine',\n",
              " 'flowery',\n",
              " 'woody',\n",
              " 'diesel',\n",
              " 'spicy',\n",
              " 'herbal',\n",
              " 'lemon',\n",
              " 'skunk',\n",
              " 'none',\n",
              " 'tropical',\n",
              " 'blueberry',\n",
              " 'grape',\n",
              " 'orange',\n",
              " 'cheese',\n",
              " 'pepper',\n",
              " 'lime',\n",
              " 'strawberry',\n",
              " 'pineapple',\n",
              " 'minty',\n",
              " 'sage',\n",
              " 'grapefruit',\n",
              " 'chemical',\n",
              " 'lavender',\n",
              " 'vanilla',\n",
              " 'tree',\n",
              " 'fruit',\n",
              " 'mango',\n",
              " 'honey',\n",
              " 'ammonia',\n",
              " 'nutty',\n",
              " 'coffee',\n",
              " 'menthol',\n",
              " 'butter',\n",
              " 'mint',\n",
              " 'tea',\n",
              " 'apple',\n",
              " 'rose',\n",
              " 'apricot',\n",
              " 'blue',\n",
              " 'tobacco',\n",
              " 'tar',\n",
              " 'violet',\n",
              " 'chestnut',\n",
              " 'peach',\n",
              " 'pear',\n",
              " 'plum']"
            ]
          },
          "metadata": {
            "tags": []
          },
          "execution_count": 23
        }
      ]
    },
    {
      "cell_type": "code",
      "metadata": {
        "id": "PRoTDXmCYXmt",
        "colab_type": "code",
        "colab": {
          "base_uri": "https://localhost:8080/",
          "height": 119
        },
        "outputId": "61732a18-0d10-4aff-f59e-805ad6245be6"
      },
      "source": [
        "# Clean Description \n",
        "\n",
        "df1['Description'] = df1['Description'].str.replace(u'\\xa0', u' ')\n",
        "df1['Description'].head()"
      ],
      "execution_count": 24,
      "outputs": [
        {
          "output_type": "execute_result",
          "data": {
            "text/plain": [
              "0    $100 OG is a 50/50 hybrid strain that packs a ...\n",
              "1    The ‘98 Aloha White Widow is an especially pot...\n",
              "2    1024 is a sativa-dominant hybrid bred in Spain...\n",
              "3    13 Dawgs is a hybrid of G13 and Chemdawg genet...\n",
              "4    Also known as Kosher Tangie, 24k Gold is a 60%...\n",
              "Name: Description, dtype: object"
            ]
          },
          "metadata": {
            "tags": []
          },
          "execution_count": 24
        }
      ]
    },
    {
      "cell_type": "code",
      "metadata": {
        "id": "J9FL1iwIktwb",
        "colab_type": "code",
        "colab": {
          "base_uri": "https://localhost:8080/",
          "height": 54
        },
        "outputId": "9d64304b-87c0-4604-c5fa-bce7146f6c1a"
      },
      "source": [
        "# Inspect a few reviews to determine stopwords\n",
        "\n",
        "df1['Description'].iloc[1]"
      ],
      "execution_count": 25,
      "outputs": [
        {
          "output_type": "execute_result",
          "data": {
            "text/plain": [
              "'The ‘98 Aloha White Widow is an especially potent cut of White Widow that has grown in renown alongside Hawaiian legends like Maui Wowie and Kona Gold. This White Widow phenotype reeks of diesel and skunk and has a rich earthy taste with intermittent notes of hash. Its buds are coated in trichomes, giving its dark foliage a lustrous glint to go along with its room-filling odor. This one-hitter-quitter uplifts the mind with mind-bending euphoria that materializes in the body as airy relaxation. ‘98 Aloha White Widow is available from Pua Mana 1st Hawaiian Pakalōlō Seed Bank.  '"
            ]
          },
          "metadata": {
            "tags": []
          },
          "execution_count": 25
        }
      ]
    },
    {
      "cell_type": "code",
      "metadata": {
        "id": "gpUBTWMFlojT",
        "colab_type": "code",
        "colab": {
          "base_uri": "https://localhost:8080/",
          "height": 54
        },
        "outputId": "8353cd9a-9845-4772-a1be-ee7207df4203"
      },
      "source": [
        "df1['Description'].iloc[2]"
      ],
      "execution_count": 26,
      "outputs": [
        {
          "output_type": "execute_result",
          "data": {
            "text/plain": [
              "'1024 is a sativa-dominant hybrid bred in Spain by Medical Seeds Co. The breeders claim to guard the secret genetics due to security reasons, but regardless of its genetic heritage, 1024 is a THC powerhouse with a sweet and spicy bouquet. Subtle fruit flavors mix with an herbal musk to produce uplifting sativa effects. One specific phenotype is noted for having a pungent odor that fills a room, similar to burning incense.'"
            ]
          },
          "metadata": {
            "tags": []
          },
          "execution_count": 26
        }
      ]
    },
    {
      "cell_type": "code",
      "metadata": {
        "id": "AqfIwZtOlt5I",
        "colab_type": "code",
        "colab": {
          "base_uri": "https://localhost:8080/",
          "height": 54
        },
        "outputId": "523ae52d-c0fd-4237-ed51-a97f1d33715e"
      },
      "source": [
        "df1['Description'].iloc[3]"
      ],
      "execution_count": 27,
      "outputs": [
        {
          "output_type": "execute_result",
          "data": {
            "text/plain": [
              "'13 Dawgs is a hybrid of G13 and Chemdawg genetics bred by Canadian LP Delta 9 BioTech. The two potent strains mix to create a balance between indica and sativa effects. 13 Dawgs has a sweet earthy musk that brings a blend of woody citrus flavors. The effects of 13 Dawgs induce a happy, relaxed body buzz with a creative and focused mind that counters depression and stimulates the appetite.'"
            ]
          },
          "metadata": {
            "tags": []
          },
          "execution_count": 27
        }
      ]
    },
    {
      "cell_type": "code",
      "metadata": {
        "id": "eeZFVtptmK9m",
        "colab_type": "code",
        "colab": {
          "base_uri": "https://localhost:8080/",
          "height": 54
        },
        "outputId": "c3ea8a56-ba44-4041-e9b5-074db2d4d156"
      },
      "source": [
        "df1['Description'].iloc[4]"
      ],
      "execution_count": 28,
      "outputs": [
        {
          "output_type": "execute_result",
          "data": {
            "text/plain": [
              "'Also known as Kosher Tangie, 24k Gold is a 60% indica-dominant hybrid that combines the legendary LA strain Kosher Kush with champion sativa Tangie to create something quite unique. Growing tall in its vegetative cycle and very stretchy in flower, this one will need an experienced hand when grown indoors. Most phenotypes will exhibit a sweet orange aroma from the Tangie along with the dark coloration of the Kosher Kush, and will offer a strong citrus flavor when smoked or vaped. THC levels range from 18% to 24%; definitely not for novice users! '"
            ]
          },
          "metadata": {
            "tags": []
          },
          "execution_count": 28
        }
      ]
    },
    {
      "cell_type": "code",
      "metadata": {
        "id": "lUg1lUxVmO3x",
        "colab_type": "code",
        "colab": {
          "base_uri": "https://localhost:8080/",
          "height": 54
        },
        "outputId": "0f14549c-a1c9-419d-b1df-40bd7a861fda"
      },
      "source": [
        "df1['Description'].iloc[5]"
      ],
      "execution_count": 29,
      "outputs": [
        {
          "output_type": "execute_result",
          "data": {
            "text/plain": [
              "'3 Bears OG by Mephisto Genetics is an autoflowering cross of Bear OG, Karma’s OG Cut, and Triangle Kush. This indica-dominant strain generates pungent, flavorful buds in a smaller, more manageable plant size. Mephisto Genetics describes 3 Bears OG as a cornerstone to their artisanal collection, blending the best attributes of the fabled OG Kush with a compact, controllable growth structure. The 3 Bears OG has an approximate 70-day growth cycle and offers effects that stimulate the appetite while leading the body toward sleep.'"
            ]
          },
          "metadata": {
            "tags": []
          },
          "execution_count": 29
        }
      ]
    },
    {
      "cell_type": "code",
      "metadata": {
        "id": "tTGv-5DzYXkP",
        "colab_type": "code",
        "colab": {}
      },
      "source": [
        "# Tokenizer Pipe\n",
        "from spacy.tokenizer import Tokenizer\n",
        "\n",
        "# Tokenizer\n",
        "tokenizer = Tokenizer(nlp.vocab)\n",
        "\n",
        "tokens = []\n",
        "STOP_WORDS = nlp.Defaults.stop_words.union([' ', 'weed','strain','thc','grow','growing','flower','grown','smoke','smoked',\n",
        "                                            'vape','vaped','kush','  ','generate','generates','bud','buds','plant','growth','body',\n",
        "                                            'year','years',\n",
        "                                            ])\n",
        "\n",
        "for doc in tokenizer.pipe(df1['Description'], batch_size=500):\n",
        "    doc_tokens = []   \n",
        "    for token in doc: \n",
        "        if token.text.lower() not in STOP_WORDS:\n",
        "            doc_tokens.append(token.text.lower()) \n",
        "    tokens.append(doc_tokens)\n",
        "\n",
        "df1['Combined_Desc'] = tokens"
      ],
      "execution_count": 30,
      "outputs": []
    },
    {
      "cell_type": "code",
      "metadata": {
        "id": "aII15iXdYXhu",
        "colab_type": "code",
        "colab": {}
      },
      "source": [
        "df1['Combined_Desc'] = df1['Effects']+\"\"+df1['Flavor']+\"\"+df1['Description']"
      ],
      "execution_count": 31,
      "outputs": []
    },
    {
      "cell_type": "code",
      "metadata": {
        "id": "WflNBw91YXfU",
        "colab_type": "code",
        "colab": {
          "base_uri": "https://localhost:8080/",
          "height": 547
        },
        "outputId": "336ac14b-1441-488d-bc32-7be67871289b"
      },
      "source": [
        "df1.head()"
      ],
      "execution_count": 32,
      "outputs": [
        {
          "output_type": "execute_result",
          "data": {
            "text/html": [
              "<div>\n",
              "<style scoped>\n",
              "    .dataframe tbody tr th:only-of-type {\n",
              "        vertical-align: middle;\n",
              "    }\n",
              "\n",
              "    .dataframe tbody tr th {\n",
              "        vertical-align: top;\n",
              "    }\n",
              "\n",
              "    .dataframe thead th {\n",
              "        text-align: right;\n",
              "    }\n",
              "</style>\n",
              "<table border=\"1\" class=\"dataframe\">\n",
              "  <thead>\n",
              "    <tr style=\"text-align: right;\">\n",
              "      <th></th>\n",
              "      <th>Strain</th>\n",
              "      <th>Type</th>\n",
              "      <th>Rating</th>\n",
              "      <th>Effects</th>\n",
              "      <th>Flavor</th>\n",
              "      <th>Description</th>\n",
              "      <th>Effects_tokens</th>\n",
              "      <th>Flavor_tokens</th>\n",
              "      <th>Combined_Desc</th>\n",
              "    </tr>\n",
              "  </thead>\n",
              "  <tbody>\n",
              "    <tr>\n",
              "      <th>0</th>\n",
              "      <td>100-Og</td>\n",
              "      <td>hybrid</td>\n",
              "      <td>4.0</td>\n",
              "      <td>Creative,Energetic,Tingly,Euphoric,Relaxed</td>\n",
              "      <td>Earthy,Sweet,Citrus</td>\n",
              "      <td>$100 OG is a 50/50 hybrid strain that packs a ...</td>\n",
              "      <td>[creative, energetic, tingly, euphoric, relaxed]</td>\n",
              "      <td>[earthy, sweet, citrus]</td>\n",
              "      <td>Creative,Energetic,Tingly,Euphoric,RelaxedEart...</td>\n",
              "    </tr>\n",
              "    <tr>\n",
              "      <th>1</th>\n",
              "      <td>98-White-Widow</td>\n",
              "      <td>hybrid</td>\n",
              "      <td>4.7</td>\n",
              "      <td>Relaxed,Aroused,Creative,Happy,Energetic</td>\n",
              "      <td>Flowery,Violet,Diesel</td>\n",
              "      <td>The ‘98 Aloha White Widow is an especially pot...</td>\n",
              "      <td>[relaxed, aroused, creative, happy, energetic]</td>\n",
              "      <td>[flowery, violet, diesel]</td>\n",
              "      <td>Relaxed,Aroused,Creative,Happy,EnergeticFlower...</td>\n",
              "    </tr>\n",
              "    <tr>\n",
              "      <th>2</th>\n",
              "      <td>1024</td>\n",
              "      <td>sativa</td>\n",
              "      <td>4.4</td>\n",
              "      <td>Uplifted,Happy,Relaxed,Energetic,Creative</td>\n",
              "      <td>Spicy/Herbal,Sage,Woody</td>\n",
              "      <td>1024 is a sativa-dominant hybrid bred in Spain...</td>\n",
              "      <td>[uplifted, happy, relaxed, energetic, creative]</td>\n",
              "      <td>[spicy, herbal, sage, woody]</td>\n",
              "      <td>Uplifted,Happy,Relaxed,Energetic,CreativeSpicy...</td>\n",
              "    </tr>\n",
              "    <tr>\n",
              "      <th>3</th>\n",
              "      <td>13-Dawgs</td>\n",
              "      <td>hybrid</td>\n",
              "      <td>4.2</td>\n",
              "      <td>Tingly,Creative,Hungry,Relaxed,Uplifted</td>\n",
              "      <td>Apricot,Citrus,Grapefruit</td>\n",
              "      <td>13 Dawgs is a hybrid of G13 and Chemdawg genet...</td>\n",
              "      <td>[tingly, creative, hungry, relaxed, uplifted]</td>\n",
              "      <td>[apricot, citrus, grapefruit]</td>\n",
              "      <td>Tingly,Creative,Hungry,Relaxed,UpliftedApricot...</td>\n",
              "    </tr>\n",
              "    <tr>\n",
              "      <th>4</th>\n",
              "      <td>24K-Gold</td>\n",
              "      <td>hybrid</td>\n",
              "      <td>4.6</td>\n",
              "      <td>Happy,Relaxed,Euphoric,Uplifted,Talkative</td>\n",
              "      <td>Citrus,Earthy,Orange</td>\n",
              "      <td>Also known as Kosher Tangie, 24k Gold is a 60%...</td>\n",
              "      <td>[happy, relaxed, euphoric, uplifted, talkative]</td>\n",
              "      <td>[citrus, earthy, orange]</td>\n",
              "      <td>Happy,Relaxed,Euphoric,Uplifted,TalkativeCitru...</td>\n",
              "    </tr>\n",
              "  </tbody>\n",
              "</table>\n",
              "</div>"
            ],
            "text/plain": [
              "           Strain  ...                                      Combined_Desc\n",
              "0          100-Og  ...  Creative,Energetic,Tingly,Euphoric,RelaxedEart...\n",
              "1  98-White-Widow  ...  Relaxed,Aroused,Creative,Happy,EnergeticFlower...\n",
              "2            1024  ...  Uplifted,Happy,Relaxed,Energetic,CreativeSpicy...\n",
              "3        13-Dawgs  ...  Tingly,Creative,Hungry,Relaxed,UpliftedApricot...\n",
              "4        24K-Gold  ...  Happy,Relaxed,Euphoric,Uplifted,TalkativeCitru...\n",
              "\n",
              "[5 rows x 9 columns]"
            ]
          },
          "metadata": {
            "tags": []
          },
          "execution_count": 32
        }
      ]
    },
    {
      "cell_type": "code",
      "metadata": {
        "id": "jcUF3zCYn-WF",
        "colab_type": "code",
        "colab": {
          "base_uri": "https://localhost:8080/",
          "height": 253
        },
        "outputId": "88710f3c-08ab-4f97-9645-e4122628b3d1"
      },
      "source": [
        "# Vectorization\n",
        "\n",
        "from sklearn.feature_extraction.text import TfidfVectorizer\n",
        "\n",
        "# Instantiate Vectorizer\n",
        "tfidf = TfidfVectorizer(stop_words='english', \n",
        "                        max_features=5000)\n",
        "\n",
        "# Create a vocabulary and tf-idf score per description\n",
        "dtm = tfidf.fit_transform(df1['Combined_Desc'])\n",
        "\n",
        "# Get feature names to use as dataframe column headers\n",
        "general_dtm = pd.DataFrame(dtm.todense(), columns=tfidf.get_feature_names())\n",
        "\n",
        "general_dtm.head()"
      ],
      "execution_count": 33,
      "outputs": [
        {
          "output_type": "execute_result",
          "data": {
            "text/html": [
              "<div>\n",
              "<style scoped>\n",
              "    .dataframe tbody tr th:only-of-type {\n",
              "        vertical-align: middle;\n",
              "    }\n",
              "\n",
              "    .dataframe tbody tr th {\n",
              "        vertical-align: top;\n",
              "    }\n",
              "\n",
              "    .dataframe thead th {\n",
              "        text-align: right;\n",
              "    }\n",
              "</style>\n",
              "<table border=\"1\" class=\"dataframe\">\n",
              "  <thead>\n",
              "    <tr style=\"text-align: right;\">\n",
              "      <th></th>\n",
              "      <th>09</th>\n",
              "      <th>10</th>\n",
              "      <th>100</th>\n",
              "      <th>11</th>\n",
              "      <th>12</th>\n",
              "      <th>13</th>\n",
              "      <th>14</th>\n",
              "      <th>15</th>\n",
              "      <th>16</th>\n",
              "      <th>17</th>\n",
              "      <th>18</th>\n",
              "      <th>19</th>\n",
              "      <th>1960s</th>\n",
              "      <th>1970s</th>\n",
              "      <th>1980s</th>\n",
              "      <th>1989</th>\n",
              "      <th>1990s</th>\n",
              "      <th>1991</th>\n",
              "      <th>1996</th>\n",
              "      <th>1997</th>\n",
              "      <th>1998</th>\n",
              "      <th>1999</th>\n",
              "      <th>1st</th>\n",
              "      <th>20</th>\n",
              "      <th>2000</th>\n",
              "      <th>2000s</th>\n",
              "      <th>2002</th>\n",
              "      <th>2003</th>\n",
              "      <th>2004</th>\n",
              "      <th>2005</th>\n",
              "      <th>2006</th>\n",
              "      <th>2007</th>\n",
              "      <th>2009</th>\n",
              "      <th>2010</th>\n",
              "      <th>2011</th>\n",
              "      <th>2012</th>\n",
              "      <th>2013</th>\n",
              "      <th>2014</th>\n",
              "      <th>2015</th>\n",
              "      <th>2016</th>\n",
              "      <th>...</th>\n",
              "      <th>wowie</th>\n",
              "      <th>wrapped</th>\n",
              "      <th>wrapping</th>\n",
              "      <th>wreathed</th>\n",
              "      <th>wreck</th>\n",
              "      <th>wrench</th>\n",
              "      <th>wtf</th>\n",
              "      <th>x18</th>\n",
              "      <th>xanadu</th>\n",
              "      <th>xiii</th>\n",
              "      <th>xj</th>\n",
              "      <th>xxx</th>\n",
              "      <th>y2k</th>\n",
              "      <th>year</th>\n",
              "      <th>years</th>\n",
              "      <th>yellow</th>\n",
              "      <th>yeti</th>\n",
              "      <th>yield</th>\n",
              "      <th>yielder</th>\n",
              "      <th>yielders</th>\n",
              "      <th>yielding</th>\n",
              "      <th>yields</th>\n",
              "      <th>yoda</th>\n",
              "      <th>york</th>\n",
              "      <th>yum</th>\n",
              "      <th>yummy</th>\n",
              "      <th>yunnan</th>\n",
              "      <th>zacatecas</th>\n",
              "      <th>zealand</th>\n",
              "      <th>zelly</th>\n",
              "      <th>zen</th>\n",
              "      <th>zest</th>\n",
              "      <th>zestful</th>\n",
              "      <th>zesty</th>\n",
              "      <th>zeta</th>\n",
              "      <th>zion</th>\n",
              "      <th>zkittlez</th>\n",
              "      <th>zombie</th>\n",
              "      <th>zone</th>\n",
              "      <th>zoning</th>\n",
              "    </tr>\n",
              "  </thead>\n",
              "  <tbody>\n",
              "    <tr>\n",
              "      <th>0</th>\n",
              "      <td>0.0</td>\n",
              "      <td>0.0</td>\n",
              "      <td>0.410659</td>\n",
              "      <td>0.0</td>\n",
              "      <td>0.0</td>\n",
              "      <td>0.000000</td>\n",
              "      <td>0.0</td>\n",
              "      <td>0.0</td>\n",
              "      <td>0.0</td>\n",
              "      <td>0.0</td>\n",
              "      <td>0.000000</td>\n",
              "      <td>0.0</td>\n",
              "      <td>0.0</td>\n",
              "      <td>0.0</td>\n",
              "      <td>0.0</td>\n",
              "      <td>0.0</td>\n",
              "      <td>0.0</td>\n",
              "      <td>0.0</td>\n",
              "      <td>0.0</td>\n",
              "      <td>0.0</td>\n",
              "      <td>0.0</td>\n",
              "      <td>0.0</td>\n",
              "      <td>0.000000</td>\n",
              "      <td>0.0</td>\n",
              "      <td>0.0</td>\n",
              "      <td>0.0</td>\n",
              "      <td>0.0</td>\n",
              "      <td>0.0</td>\n",
              "      <td>0.0</td>\n",
              "      <td>0.0</td>\n",
              "      <td>0.0</td>\n",
              "      <td>0.0</td>\n",
              "      <td>0.0</td>\n",
              "      <td>0.0</td>\n",
              "      <td>0.0</td>\n",
              "      <td>0.0</td>\n",
              "      <td>0.0</td>\n",
              "      <td>0.0</td>\n",
              "      <td>0.0</td>\n",
              "      <td>0.0</td>\n",
              "      <td>...</td>\n",
              "      <td>0.00000</td>\n",
              "      <td>0.0</td>\n",
              "      <td>0.0</td>\n",
              "      <td>0.0</td>\n",
              "      <td>0.0</td>\n",
              "      <td>0.0</td>\n",
              "      <td>0.0</td>\n",
              "      <td>0.0</td>\n",
              "      <td>0.0</td>\n",
              "      <td>0.0</td>\n",
              "      <td>0.0</td>\n",
              "      <td>0.0</td>\n",
              "      <td>0.0</td>\n",
              "      <td>0.0</td>\n",
              "      <td>0.0</td>\n",
              "      <td>0.0</td>\n",
              "      <td>0.0</td>\n",
              "      <td>0.0</td>\n",
              "      <td>0.0</td>\n",
              "      <td>0.0</td>\n",
              "      <td>0.0</td>\n",
              "      <td>0.0</td>\n",
              "      <td>0.0</td>\n",
              "      <td>0.0</td>\n",
              "      <td>0.0</td>\n",
              "      <td>0.0</td>\n",
              "      <td>0.0</td>\n",
              "      <td>0.0</td>\n",
              "      <td>0.0</td>\n",
              "      <td>0.0</td>\n",
              "      <td>0.0</td>\n",
              "      <td>0.0</td>\n",
              "      <td>0.0</td>\n",
              "      <td>0.0</td>\n",
              "      <td>0.0</td>\n",
              "      <td>0.0</td>\n",
              "      <td>0.0</td>\n",
              "      <td>0.0</td>\n",
              "      <td>0.0</td>\n",
              "      <td>0.0</td>\n",
              "    </tr>\n",
              "    <tr>\n",
              "      <th>1</th>\n",
              "      <td>0.0</td>\n",
              "      <td>0.0</td>\n",
              "      <td>0.000000</td>\n",
              "      <td>0.0</td>\n",
              "      <td>0.0</td>\n",
              "      <td>0.000000</td>\n",
              "      <td>0.0</td>\n",
              "      <td>0.0</td>\n",
              "      <td>0.0</td>\n",
              "      <td>0.0</td>\n",
              "      <td>0.000000</td>\n",
              "      <td>0.0</td>\n",
              "      <td>0.0</td>\n",
              "      <td>0.0</td>\n",
              "      <td>0.0</td>\n",
              "      <td>0.0</td>\n",
              "      <td>0.0</td>\n",
              "      <td>0.0</td>\n",
              "      <td>0.0</td>\n",
              "      <td>0.0</td>\n",
              "      <td>0.0</td>\n",
              "      <td>0.0</td>\n",
              "      <td>0.098245</td>\n",
              "      <td>0.0</td>\n",
              "      <td>0.0</td>\n",
              "      <td>0.0</td>\n",
              "      <td>0.0</td>\n",
              "      <td>0.0</td>\n",
              "      <td>0.0</td>\n",
              "      <td>0.0</td>\n",
              "      <td>0.0</td>\n",
              "      <td>0.0</td>\n",
              "      <td>0.0</td>\n",
              "      <td>0.0</td>\n",
              "      <td>0.0</td>\n",
              "      <td>0.0</td>\n",
              "      <td>0.0</td>\n",
              "      <td>0.0</td>\n",
              "      <td>0.0</td>\n",
              "      <td>0.0</td>\n",
              "      <td>...</td>\n",
              "      <td>0.13497</td>\n",
              "      <td>0.0</td>\n",
              "      <td>0.0</td>\n",
              "      <td>0.0</td>\n",
              "      <td>0.0</td>\n",
              "      <td>0.0</td>\n",
              "      <td>0.0</td>\n",
              "      <td>0.0</td>\n",
              "      <td>0.0</td>\n",
              "      <td>0.0</td>\n",
              "      <td>0.0</td>\n",
              "      <td>0.0</td>\n",
              "      <td>0.0</td>\n",
              "      <td>0.0</td>\n",
              "      <td>0.0</td>\n",
              "      <td>0.0</td>\n",
              "      <td>0.0</td>\n",
              "      <td>0.0</td>\n",
              "      <td>0.0</td>\n",
              "      <td>0.0</td>\n",
              "      <td>0.0</td>\n",
              "      <td>0.0</td>\n",
              "      <td>0.0</td>\n",
              "      <td>0.0</td>\n",
              "      <td>0.0</td>\n",
              "      <td>0.0</td>\n",
              "      <td>0.0</td>\n",
              "      <td>0.0</td>\n",
              "      <td>0.0</td>\n",
              "      <td>0.0</td>\n",
              "      <td>0.0</td>\n",
              "      <td>0.0</td>\n",
              "      <td>0.0</td>\n",
              "      <td>0.0</td>\n",
              "      <td>0.0</td>\n",
              "      <td>0.0</td>\n",
              "      <td>0.0</td>\n",
              "      <td>0.0</td>\n",
              "      <td>0.0</td>\n",
              "      <td>0.0</td>\n",
              "    </tr>\n",
              "    <tr>\n",
              "      <th>2</th>\n",
              "      <td>0.0</td>\n",
              "      <td>0.0</td>\n",
              "      <td>0.000000</td>\n",
              "      <td>0.0</td>\n",
              "      <td>0.0</td>\n",
              "      <td>0.000000</td>\n",
              "      <td>0.0</td>\n",
              "      <td>0.0</td>\n",
              "      <td>0.0</td>\n",
              "      <td>0.0</td>\n",
              "      <td>0.000000</td>\n",
              "      <td>0.0</td>\n",
              "      <td>0.0</td>\n",
              "      <td>0.0</td>\n",
              "      <td>0.0</td>\n",
              "      <td>0.0</td>\n",
              "      <td>0.0</td>\n",
              "      <td>0.0</td>\n",
              "      <td>0.0</td>\n",
              "      <td>0.0</td>\n",
              "      <td>0.0</td>\n",
              "      <td>0.0</td>\n",
              "      <td>0.000000</td>\n",
              "      <td>0.0</td>\n",
              "      <td>0.0</td>\n",
              "      <td>0.0</td>\n",
              "      <td>0.0</td>\n",
              "      <td>0.0</td>\n",
              "      <td>0.0</td>\n",
              "      <td>0.0</td>\n",
              "      <td>0.0</td>\n",
              "      <td>0.0</td>\n",
              "      <td>0.0</td>\n",
              "      <td>0.0</td>\n",
              "      <td>0.0</td>\n",
              "      <td>0.0</td>\n",
              "      <td>0.0</td>\n",
              "      <td>0.0</td>\n",
              "      <td>0.0</td>\n",
              "      <td>0.0</td>\n",
              "      <td>...</td>\n",
              "      <td>0.00000</td>\n",
              "      <td>0.0</td>\n",
              "      <td>0.0</td>\n",
              "      <td>0.0</td>\n",
              "      <td>0.0</td>\n",
              "      <td>0.0</td>\n",
              "      <td>0.0</td>\n",
              "      <td>0.0</td>\n",
              "      <td>0.0</td>\n",
              "      <td>0.0</td>\n",
              "      <td>0.0</td>\n",
              "      <td>0.0</td>\n",
              "      <td>0.0</td>\n",
              "      <td>0.0</td>\n",
              "      <td>0.0</td>\n",
              "      <td>0.0</td>\n",
              "      <td>0.0</td>\n",
              "      <td>0.0</td>\n",
              "      <td>0.0</td>\n",
              "      <td>0.0</td>\n",
              "      <td>0.0</td>\n",
              "      <td>0.0</td>\n",
              "      <td>0.0</td>\n",
              "      <td>0.0</td>\n",
              "      <td>0.0</td>\n",
              "      <td>0.0</td>\n",
              "      <td>0.0</td>\n",
              "      <td>0.0</td>\n",
              "      <td>0.0</td>\n",
              "      <td>0.0</td>\n",
              "      <td>0.0</td>\n",
              "      <td>0.0</td>\n",
              "      <td>0.0</td>\n",
              "      <td>0.0</td>\n",
              "      <td>0.0</td>\n",
              "      <td>0.0</td>\n",
              "      <td>0.0</td>\n",
              "      <td>0.0</td>\n",
              "      <td>0.0</td>\n",
              "      <td>0.0</td>\n",
              "    </tr>\n",
              "    <tr>\n",
              "      <th>3</th>\n",
              "      <td>0.0</td>\n",
              "      <td>0.0</td>\n",
              "      <td>0.000000</td>\n",
              "      <td>0.0</td>\n",
              "      <td>0.0</td>\n",
              "      <td>0.308341</td>\n",
              "      <td>0.0</td>\n",
              "      <td>0.0</td>\n",
              "      <td>0.0</td>\n",
              "      <td>0.0</td>\n",
              "      <td>0.000000</td>\n",
              "      <td>0.0</td>\n",
              "      <td>0.0</td>\n",
              "      <td>0.0</td>\n",
              "      <td>0.0</td>\n",
              "      <td>0.0</td>\n",
              "      <td>0.0</td>\n",
              "      <td>0.0</td>\n",
              "      <td>0.0</td>\n",
              "      <td>0.0</td>\n",
              "      <td>0.0</td>\n",
              "      <td>0.0</td>\n",
              "      <td>0.000000</td>\n",
              "      <td>0.0</td>\n",
              "      <td>0.0</td>\n",
              "      <td>0.0</td>\n",
              "      <td>0.0</td>\n",
              "      <td>0.0</td>\n",
              "      <td>0.0</td>\n",
              "      <td>0.0</td>\n",
              "      <td>0.0</td>\n",
              "      <td>0.0</td>\n",
              "      <td>0.0</td>\n",
              "      <td>0.0</td>\n",
              "      <td>0.0</td>\n",
              "      <td>0.0</td>\n",
              "      <td>0.0</td>\n",
              "      <td>0.0</td>\n",
              "      <td>0.0</td>\n",
              "      <td>0.0</td>\n",
              "      <td>...</td>\n",
              "      <td>0.00000</td>\n",
              "      <td>0.0</td>\n",
              "      <td>0.0</td>\n",
              "      <td>0.0</td>\n",
              "      <td>0.0</td>\n",
              "      <td>0.0</td>\n",
              "      <td>0.0</td>\n",
              "      <td>0.0</td>\n",
              "      <td>0.0</td>\n",
              "      <td>0.0</td>\n",
              "      <td>0.0</td>\n",
              "      <td>0.0</td>\n",
              "      <td>0.0</td>\n",
              "      <td>0.0</td>\n",
              "      <td>0.0</td>\n",
              "      <td>0.0</td>\n",
              "      <td>0.0</td>\n",
              "      <td>0.0</td>\n",
              "      <td>0.0</td>\n",
              "      <td>0.0</td>\n",
              "      <td>0.0</td>\n",
              "      <td>0.0</td>\n",
              "      <td>0.0</td>\n",
              "      <td>0.0</td>\n",
              "      <td>0.0</td>\n",
              "      <td>0.0</td>\n",
              "      <td>0.0</td>\n",
              "      <td>0.0</td>\n",
              "      <td>0.0</td>\n",
              "      <td>0.0</td>\n",
              "      <td>0.0</td>\n",
              "      <td>0.0</td>\n",
              "      <td>0.0</td>\n",
              "      <td>0.0</td>\n",
              "      <td>0.0</td>\n",
              "      <td>0.0</td>\n",
              "      <td>0.0</td>\n",
              "      <td>0.0</td>\n",
              "      <td>0.0</td>\n",
              "      <td>0.0</td>\n",
              "    </tr>\n",
              "    <tr>\n",
              "      <th>4</th>\n",
              "      <td>0.0</td>\n",
              "      <td>0.0</td>\n",
              "      <td>0.000000</td>\n",
              "      <td>0.0</td>\n",
              "      <td>0.0</td>\n",
              "      <td>0.000000</td>\n",
              "      <td>0.0</td>\n",
              "      <td>0.0</td>\n",
              "      <td>0.0</td>\n",
              "      <td>0.0</td>\n",
              "      <td>0.136724</td>\n",
              "      <td>0.0</td>\n",
              "      <td>0.0</td>\n",
              "      <td>0.0</td>\n",
              "      <td>0.0</td>\n",
              "      <td>0.0</td>\n",
              "      <td>0.0</td>\n",
              "      <td>0.0</td>\n",
              "      <td>0.0</td>\n",
              "      <td>0.0</td>\n",
              "      <td>0.0</td>\n",
              "      <td>0.0</td>\n",
              "      <td>0.000000</td>\n",
              "      <td>0.0</td>\n",
              "      <td>0.0</td>\n",
              "      <td>0.0</td>\n",
              "      <td>0.0</td>\n",
              "      <td>0.0</td>\n",
              "      <td>0.0</td>\n",
              "      <td>0.0</td>\n",
              "      <td>0.0</td>\n",
              "      <td>0.0</td>\n",
              "      <td>0.0</td>\n",
              "      <td>0.0</td>\n",
              "      <td>0.0</td>\n",
              "      <td>0.0</td>\n",
              "      <td>0.0</td>\n",
              "      <td>0.0</td>\n",
              "      <td>0.0</td>\n",
              "      <td>0.0</td>\n",
              "      <td>...</td>\n",
              "      <td>0.00000</td>\n",
              "      <td>0.0</td>\n",
              "      <td>0.0</td>\n",
              "      <td>0.0</td>\n",
              "      <td>0.0</td>\n",
              "      <td>0.0</td>\n",
              "      <td>0.0</td>\n",
              "      <td>0.0</td>\n",
              "      <td>0.0</td>\n",
              "      <td>0.0</td>\n",
              "      <td>0.0</td>\n",
              "      <td>0.0</td>\n",
              "      <td>0.0</td>\n",
              "      <td>0.0</td>\n",
              "      <td>0.0</td>\n",
              "      <td>0.0</td>\n",
              "      <td>0.0</td>\n",
              "      <td>0.0</td>\n",
              "      <td>0.0</td>\n",
              "      <td>0.0</td>\n",
              "      <td>0.0</td>\n",
              "      <td>0.0</td>\n",
              "      <td>0.0</td>\n",
              "      <td>0.0</td>\n",
              "      <td>0.0</td>\n",
              "      <td>0.0</td>\n",
              "      <td>0.0</td>\n",
              "      <td>0.0</td>\n",
              "      <td>0.0</td>\n",
              "      <td>0.0</td>\n",
              "      <td>0.0</td>\n",
              "      <td>0.0</td>\n",
              "      <td>0.0</td>\n",
              "      <td>0.0</td>\n",
              "      <td>0.0</td>\n",
              "      <td>0.0</td>\n",
              "      <td>0.0</td>\n",
              "      <td>0.0</td>\n",
              "      <td>0.0</td>\n",
              "      <td>0.0</td>\n",
              "    </tr>\n",
              "  </tbody>\n",
              "</table>\n",
              "<p>5 rows × 5000 columns</p>\n",
              "</div>"
            ],
            "text/plain": [
              "    09   10       100   11   12  ...  zion  zkittlez  zombie  zone  zoning\n",
              "0  0.0  0.0  0.410659  0.0  0.0  ...   0.0       0.0     0.0   0.0     0.0\n",
              "1  0.0  0.0  0.000000  0.0  0.0  ...   0.0       0.0     0.0   0.0     0.0\n",
              "2  0.0  0.0  0.000000  0.0  0.0  ...   0.0       0.0     0.0   0.0     0.0\n",
              "3  0.0  0.0  0.000000  0.0  0.0  ...   0.0       0.0     0.0   0.0     0.0\n",
              "4  0.0  0.0  0.000000  0.0  0.0  ...   0.0       0.0     0.0   0.0     0.0\n",
              "\n",
              "[5 rows x 5000 columns]"
            ]
          },
          "metadata": {
            "tags": []
          },
          "execution_count": 33
        }
      ]
    },
    {
      "cell_type": "code",
      "metadata": {
        "id": "r-fOCg38n-Tf",
        "colab_type": "code",
        "colab": {
          "base_uri": "https://localhost:8080/",
          "height": 68
        },
        "outputId": "60ecf38e-07f0-4071-d08d-432917768867"
      },
      "source": [
        "from sklearn.neighbors import NearestNeighbors\n",
        "\n",
        "# Fit on dtm\n",
        "nn = NearestNeighbors(n_neighbors=5, algorithm='brute')\n",
        "nn.fit(general_dtm)"
      ],
      "execution_count": 34,
      "outputs": [
        {
          "output_type": "execute_result",
          "data": {
            "text/plain": [
              "NearestNeighbors(algorithm='brute', leaf_size=30, metric='minkowski',\n",
              "                 metric_params=None, n_jobs=None, n_neighbors=5, p=2,\n",
              "                 radius=1.0)"
            ]
          },
          "metadata": {
            "tags": []
          },
          "execution_count": 34
        }
      ]
    },
    {
      "cell_type": "code",
      "metadata": {
        "id": "VOdxld0rn3da",
        "colab_type": "code",
        "colab": {
          "base_uri": "https://localhost:8080/",
          "height": 34
        },
        "outputId": "324520bc-ca64-42df-f91d-9971bf321ad3"
      },
      "source": [
        "# Test input\n",
        "\n",
        "ex_input = ['depression, hungry, earthy']\n",
        "dense1 = tfidf.transform(ex_input)\n",
        "\n",
        "_, results1 = nn.kneighbors(dense1.todense())\n",
        "results1"
      ],
      "execution_count": 44,
      "outputs": [
        {
          "output_type": "execute_result",
          "data": {
            "text/plain": [
              "array([[1321,  955,  362, 1093, 1368]])"
            ]
          },
          "metadata": {
            "tags": []
          },
          "execution_count": 44
        }
      ]
    },
    {
      "cell_type": "code",
      "metadata": {
        "id": "vEbDD0M6raLs",
        "colab_type": "code",
        "colab": {
          "base_uri": "https://localhost:8080/",
          "height": 54
        },
        "outputId": "08f3d7bf-69d9-4a69-8d00-99e6714c1d13"
      },
      "source": [
        "# Inspect most relevant result\n",
        "\n",
        "df1.Combined_Desc[1321]"
      ],
      "execution_count": 45,
      "outputs": [
        {
          "output_type": "execute_result",
          "data": {
            "text/plain": [
              "'Happy,Uplifted,Hungry,Talkative,EnergeticSweet,Earthy,CitrusMad Dog is a hybrid strain that delivers euphoric relaxation and a subtle, uplifting jolt of cerebral energy. It has an earthy pine aroma with sweet, minty undertones.'"
            ]
          },
          "metadata": {
            "tags": []
          },
          "execution_count": 45
        }
      ]
    },
    {
      "cell_type": "code",
      "metadata": {
        "id": "KF854MyIM0Ku",
        "colab_type": "code",
        "colab": {}
      },
      "source": [
        "# Format Results better!!!!"
      ],
      "execution_count": 46,
      "outputs": []
    },
    {
      "cell_type": "code",
      "metadata": {
        "id": "tmKhEDF7ykRW",
        "colab_type": "code",
        "colab": {
          "base_uri": "https://localhost:8080/",
          "height": 901
        },
        "outputId": "c8ed16d2-b253-4f23-e0fa-9a5fd1c3b509"
      },
      "source": [
        "# View top 5 relevant strains for 'depression'\n",
        "\n",
        "strains = [df1['Strain'][r] for r in results1]\n",
        "print('- - - - Strains - - - - ')\n",
        "print(strains, sep='\\n\\n')\n",
        "print(end=\"\\n\\n\")\n",
        "\n",
        "types = [df1['Type'][r] for r in results1]\n",
        "print('- - -  Types - - - ')\n",
        "print(types, sep='\\n\\n')\n",
        "print(end=\"\\n\\n\")\n",
        "\n",
        "ratings = [df1['Rating'][r] for r in results1]\n",
        "print('- - - Ratings - - -')\n",
        "print(ratings, sep='\\n\\n')\n",
        "print(end=\"\\n\\n\")\n",
        "\n",
        "similar_flavors = [df1['Flavor'][r] for r in results1]\n",
        "print('- - - Flavors - - -')\n",
        "print(similar_flavors, sep='\\n\\n')\n",
        "print(end=\"\\n\\n\")\n",
        "\n",
        "similar_effects = [df1['Effects'][r] for r in results1]\n",
        "print('- - -  Effects - - - ')\n",
        "print(similar_effects, sep='\\n\\n')\n",
        "print(end=\"\\n\\n\")\n",
        "\n",
        "\n",
        "similar_topics = [df1['Description'][r] for r in results1]\n",
        "print('- - -  Descriptions - - - ')\n",
        "print(similar_topics, sep='\\n\\n')"
      ],
      "execution_count": 47,
      "outputs": [
        {
          "output_type": "stream",
          "text": [
            "- - - - Strains - - - - \n",
            "[1321         Mad-Dawg\n",
            "955     Green-Monster\n",
            "362        Boggle-Gum\n",
            "1093             Jt15\n",
            "1368       Maui-Berry\n",
            "Name: Strain, dtype: object]\n",
            "\n",
            "\n",
            "- - -  Types - - - \n",
            "[1321    hybrid\n",
            "955     hybrid\n",
            "362     hybrid\n",
            "1093    indica\n",
            "1368    hybrid\n",
            "Name: Type, dtype: object]\n",
            "\n",
            "\n",
            "- - - Ratings - - -\n",
            "[1321    4.5\n",
            "955     3.7\n",
            "362     4.0\n",
            "1093    5.0\n",
            "1368    4.0\n",
            "Name: Rating, dtype: float64]\n",
            "\n",
            "\n",
            "- - - Flavors - - -\n",
            "[1321     Sweet,Earthy,Citrus\n",
            "955      Earthy,Chemical,Tar\n",
            "362       Sweet,Earthy,Grape\n",
            "1093                    None\n",
            "1368    Berry,Citrus,Pungent\n",
            "Name: Flavor, dtype: object]\n",
            "\n",
            "\n",
            "- - -  Effects - - - \n",
            "[1321    Happy,Uplifted,Hungry,Talkative,Energetic\n",
            "955          Happy,Relaxed,Uplifted,Hungry,Giggly\n",
            "362            Happy,Relaxed,Hungry,Sleepy,Giggly\n",
            "1093         Relaxed,Sleepy,Happy,Hungry,Uplifted\n",
            "1368     Happy,Creative,Uplifted,Hungry,Energetic\n",
            "Name: Effects, dtype: object]\n",
            "\n",
            "\n",
            "- - -  Descriptions - - - \n",
            "[1321    Mad Dog is a hybrid strain that delivers eupho...\n",
            "955                                                  None\n",
            "362     Boggle Gum is a relaxing hybrid cross between ...\n",
            "1093    JT15 is an indica Kush cross with a powerful o...\n",
            "1368                                                 None\n",
            "Name: Description, dtype: object]\n"
          ],
          "name": "stdout"
        }
      ]
    },
    {
      "cell_type": "code",
      "metadata": {
        "id": "S8C2gqHfL8AO",
        "colab_type": "code",
        "colab": {}
      },
      "source": [
        "# Save Nearest Neighbors Model\n",
        "\n",
        "import pickle\n",
        "\n",
        "filename = \"knn_model.pkl\"\n",
        "pickle.dump(nn, open(filename, \"wb\"))"
      ],
      "execution_count": 48,
      "outputs": []
    },
    {
      "cell_type": "code",
      "metadata": {
        "id": "OIMNNlJA1Q4z",
        "colab_type": "code",
        "colab": {}
      },
      "source": [
        "# Save dtm \n",
        "\n",
        "filename2 = 'knn_dtm.pkl'\n",
        "pickle.dump(dtm, open(filename2, 'wb'))"
      ],
      "execution_count": 49,
      "outputs": []
    },
    {
      "cell_type": "code",
      "metadata": {
        "id": "7iIkocEg1k0e",
        "colab_type": "code",
        "colab": {}
      },
      "source": [
        "# Save tfidf\n",
        "\n",
        "filename3 = 'knn_tfidf.pkl'\n",
        "pickle.dump(tfidf, open(filename3, 'wb'))"
      ],
      "execution_count": 50,
      "outputs": []
    },
    {
      "cell_type": "code",
      "metadata": {
        "id": "PgHM3CfIuef1",
        "colab_type": "code",
        "colab": {
          "base_uri": "https://localhost:8080/",
          "height": 34
        },
        "outputId": "39b01b28-6163-4eae-9971-0ba748621908"
      },
      "source": [
        "# Load Model - Test to make sure it still functions. \n",
        "\n",
        "model = pickle.load(open(\"knn_model.pkl\", \"rb\"))\n",
        "query = [\"Euphoric, Happy, Blueberry\"]\n",
        "trans = tfidf.transform(query)\n",
        "model.kneighbors(trans.todense())[1]"
      ],
      "execution_count": 53,
      "outputs": [
        {
          "output_type": "execute_result",
          "data": {
            "text/plain": [
              "array([[191, 301, 335, 340, 622]])"
            ]
          },
          "metadata": {
            "tags": []
          },
          "execution_count": 53
        }
      ]
    },
    {
      "cell_type": "code",
      "metadata": {
        "id": "mMVaQN-Kume6",
        "colab_type": "code",
        "colab": {
          "base_uri": "https://localhost:8080/",
          "height": 34
        },
        "outputId": "b7ec792a-ce6a-481e-cb43-9e526e65dc05"
      },
      "source": [
        "df1.Strain[191]"
      ],
      "execution_count": 54,
      "outputs": [
        {
          "output_type": "execute_result",
          "data": {
            "text/plain": [
              "'Berry-Og'"
            ]
          },
          "metadata": {
            "tags": []
          },
          "execution_count": 54
        }
      ]
    },
    {
      "cell_type": "code",
      "metadata": {
        "id": "Homc9aZjuxOr",
        "colab_type": "code",
        "colab": {
          "base_uri": "https://localhost:8080/",
          "height": 34
        },
        "outputId": "904cff2e-96bb-415f-e592-b66c5a6f7d14"
      },
      "source": [
        "df1.Rating[191]"
      ],
      "execution_count": 55,
      "outputs": [
        {
          "output_type": "execute_result",
          "data": {
            "text/plain": [
              "4.3"
            ]
          },
          "metadata": {
            "tags": []
          },
          "execution_count": 55
        }
      ]
    },
    {
      "cell_type": "code",
      "metadata": {
        "id": "0Po7J0rLu0JG",
        "colab_type": "code",
        "colab": {
          "base_uri": "https://localhost:8080/",
          "height": 34
        },
        "outputId": "0ea42414-8e60-40d3-b1b8-af8ebdfff9d3"
      },
      "source": [
        "df1.Effects[191]"
      ],
      "execution_count": 56,
      "outputs": [
        {
          "output_type": "execute_result",
          "data": {
            "text/plain": [
              "'Happy,Relaxed,Uplifted,Euphoric,Sleepy'"
            ]
          },
          "metadata": {
            "tags": []
          },
          "execution_count": 56
        }
      ]
    },
    {
      "cell_type": "code",
      "metadata": {
        "id": "nQdpXMN4u4g4",
        "colab_type": "code",
        "colab": {
          "base_uri": "https://localhost:8080/",
          "height": 34
        },
        "outputId": "6f7838a4-3f17-4e9f-be73-3289dcb6e4f9"
      },
      "source": [
        "df1.Flavor[191]"
      ],
      "execution_count": 57,
      "outputs": [
        {
          "output_type": "execute_result",
          "data": {
            "text/plain": [
              "'Berry,Blueberry,Earthy'"
            ]
          },
          "metadata": {
            "tags": []
          },
          "execution_count": 57
        }
      ]
    },
    {
      "cell_type": "code",
      "metadata": {
        "id": "dh33261ws2C-",
        "colab_type": "code",
        "colab": {
          "base_uri": "https://localhost:8080/",
          "height": 34
        },
        "outputId": "9952b11a-8f81-4372-bf5e-73208de44606"
      },
      "source": [
        "df1.Description[191]"
      ],
      "execution_count": 58,
      "outputs": [
        {
          "output_type": "execute_result",
          "data": {
            "text/plain": [
              "'Berry OG is an indica-dominant hybrid cross between OG Kush and Blueberry.'"
            ]
          },
          "metadata": {
            "tags": []
          },
          "execution_count": 58
        }
      ]
    }
  ]
}